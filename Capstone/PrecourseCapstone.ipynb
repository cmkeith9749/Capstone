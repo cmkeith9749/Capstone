{
 "cells": [
  {
   "cell_type": "markdown",
   "metadata": {},
   "source": [
    "# Introduction<a name=\"introduction\"></a>\n",
    "\n",
    "Admittedly completing this first Capstone project was a challenge for me.  It was a struggle from the start as I spent way too much time looking through the referenced [dataset sources](https://github.com/Thinkful-Ed/data-201-resources/blob/master/data-sources.md).  Not try to deflect any blame, but It really does not take much for a dataset to be [“interesting or significant”](https://courses.thinkful.com/data-201-prepv1/project/4.2.2) to me.  I did finally decide I wanted to do something involved with [association football](https://en.wikipedia.org/wiki/Association_football) and out there on Kaggle I found [this](https://www.kaggle.com/martj42/international-football-results-from-1872-to-2017).  Solid choice, but then I somehow I ended up on the fivethirtyeight website and decided I could do a better job than their [Global Club Soccer Rankings](https://projects.fivethirtyeight.com/global-club-soccer-rankings/). I was thinking that obviously, Atlanta United should be ranked way higher that 225. That was before the season started.  \n",
    "\n",
    "Even though the \"do better than FiveThirtyEight\" was beyond my current capabilities,   I stubbornly pounded my head against the brickwall of self denial. Eventually the wiser voices of Mentor and Program Manager resonated in my bruised and battered head.  Therefore I am slightly proud to present:"
   ]
  },
  {
   "cell_type": "markdown",
   "metadata": {},
   "source": [
    "# A Prelude to  An Association Football Rankings Analysis\n",
    "\n",
    "\n",
    "\n",
    "1. [Introduction](#introduction)\n",
    "4. [Propose Further Research](#Research)\n",
    "2. [Describe your Dataset](#Data)\n",
    "    1. [First Round Processing](#DataSub1)\n",
    "    2. [Second Round Processing](#DataSub2)\n",
    "    3. [Third Round Processing](#DataSub3)\n",
    "    \n",
    "3. [Ask and Answer Analytic Questions](#Analysis)\n",
    "    1. [Analysis Question One](#AlsSub01)\n",
    "    2. [Analysis Question Two](#AlsSub02)\n",
    "    3. [Analysis Question Three](#AlsSub03)\n",
    "    4. [Analysis Question Four](#AlsSub04)\n",
    "\n"
   ]
  },
  {
   "cell_type": "markdown",
   "metadata": {},
   "source": [
    "# Propose Further Research<a name=\"Research\"></a>\n",
    "\n",
    "Yes, I understand that this should be item four in the above contents. This is the unfocused part and it more accurately reflects how the capstone was done.  The further research is developing or improving analytics based models to rank international and club football teams.  The [FIFA rankings](https://www.fifa.com/fifa-world-ranking/) are how teams are seeded for the World Cup, arguably the world's preeminent sporting event.  The success or failure of national football teams can have serious (and yes irrational results) as exemplified here, here and here.  \n",
    "\n",
    "While they are first and foremost ranking methodologies, all require a individual match result probability calculation. Therein lies the value of this extensive historical results in this dataset.\n",
    "\n",
    "\n",
    "1. [ELO Rankings] (https://www.eloratings.net/about)\n",
    "2. FIFA's version of ELO adopted after the 2018 World Cup.\n",
    "3. ELO with a modified home field adustment.\n",
    "4. ELO with a modified result calculation.  \n",
    "5. Maybe try a Poisson Process methodology in a statistical model.  \n",
    "\n",
    "This [notebook](modifyELO.ipynb) is the of this future research.  \n",
    "\n",
    "While they are first and foremost ranking methodologies, all require a individual match result probability calculation. Therein lies the value of this extensive historical results in this dataset.\n"
   ]
  },
  {
   "cell_type": "markdown",
   "metadata": {},
   "source": [
    "## Describe your Dataset <a name=\"Data\"></a>\n",
    "From [Kaggle](https://www.kaggle.com) the data set is [International football results from 1872 to 2018](https://www.kaggle.com/martj42/international-football-results-from-1872-to-2017) and includes:\n",
    "```\n",
    "date - date of the match\n",
    "home_team - the name of the home team\n",
    "away_team - the name of the away team\n",
    "home_score - full-time home team score including extra time, not including penalty-shootouts\n",
    "away_score - full-time away team score including extra time, not including penalty-shootouts\n",
    "tournament - the name of the tournament\n",
    "city - the name of the city/town/administrative unit where the match was played\n",
    "country - the name of the country where the match was played\n",
    "neutral - TRUE/FALSE column indicating whether the match was played at a neutral venue\n",
    "```\n",
    "\n",
    "The \"neutral\" column is important when ranking as \"home field advantage\" effect match results.  \"Tournament\" is better described as the type of match.  For this dataset it ranges from friendly matches to the World Cup Finals.  This can be used to weight the results based upon the importance of a match.  \n",
    "\n",
    "\n",
    "\n",
    "*Why is it interesting or significant?* The dataset title and description provide that answer.  \"International football results from **1872** to 2018\"  and \"An up-to-date dataset of nearly **40,000** international football results\".  **1872** is a long time ago and **40,000** is a lot of results. \n",
    "\n",
    "*Where does it come from?* Round of applause for the [man](https://www.kaggle.com/martj42) behind the this \"brilliant\" … it’s a football thing … dataset. \n",
    "\n",
    "\n"
   ]
  },
  {
   "cell_type": "code",
   "execution_count": 2,
   "metadata": {},
   "outputs": [],
   "source": [
    "import numpy as np\n",
    "import pandas as pd\n",
    "from collections import defaultdict\n",
    "import matplotlib.pyplot as plt\n",
    "%matplotlib inline\n",
    "import matplotlib.style as style\n",
    "style.use = 'ggplot'\n"
   ]
  },
  {
   "cell_type": "markdown",
   "metadata": {},
   "source": [
    "# First Round of Processing<a name=\"DataSub1\"></a> \n",
    "\n",
    "No significant issue reading the csv file into a pandas DataFrame. With no parsing except for defining the date column as a date object and verifying the other data types. For this round of data processing, the goal is a DataFrame as follows:\n",
    "\n",
    "|   date   |  home_team  |  away_team  |  home_score  |  away_score  |  tournament  |  neutral  |\n",
    "| -------- | ----------- | ----------- | ------------ | ------------ | ------------ | --------  | \n",
    "| date obj |   string    |   string    |     int      |     int      |   string     |   bool    | \n",
    "\n"
   ]
  },
  {
   "cell_type": "code",
   "execution_count": 3,
   "metadata": {},
   "outputs": [
    {
     "data": {
      "text/html": [
       "<div>\n",
       "<style scoped>\n",
       "    .dataframe tbody tr th:only-of-type {\n",
       "        vertical-align: middle;\n",
       "    }\n",
       "\n",
       "    .dataframe tbody tr th {\n",
       "        vertical-align: top;\n",
       "    }\n",
       "\n",
       "    .dataframe thead th {\n",
       "        text-align: right;\n",
       "    }\n",
       "</style>\n",
       "<table border=\"1\" class=\"dataframe\">\n",
       "  <thead>\n",
       "    <tr style=\"text-align: right;\">\n",
       "      <th></th>\n",
       "      <th>date</th>\n",
       "      <th>home_team</th>\n",
       "      <th>away_team</th>\n",
       "      <th>home_score</th>\n",
       "      <th>away_score</th>\n",
       "      <th>tournament</th>\n",
       "      <th>neutral</th>\n",
       "    </tr>\n",
       "  </thead>\n",
       "  <tbody>\n",
       "    <tr>\n",
       "      <th>0</th>\n",
       "      <td>1872-11-30</td>\n",
       "      <td>Scotland</td>\n",
       "      <td>England</td>\n",
       "      <td>0</td>\n",
       "      <td>0</td>\n",
       "      <td>Friendly</td>\n",
       "      <td>False</td>\n",
       "    </tr>\n",
       "    <tr>\n",
       "      <th>1</th>\n",
       "      <td>1873-03-08</td>\n",
       "      <td>England</td>\n",
       "      <td>Scotland</td>\n",
       "      <td>4</td>\n",
       "      <td>2</td>\n",
       "      <td>Friendly</td>\n",
       "      <td>False</td>\n",
       "    </tr>\n",
       "  </tbody>\n",
       "</table>\n",
       "</div>"
      ],
      "text/plain": [
       "        date home_team away_team  home_score  away_score tournament  neutral\n",
       "0 1872-11-30  Scotland   England           0           0   Friendly    False\n",
       "1 1873-03-08   England  Scotland           4           2   Friendly    False"
      ]
     },
     "execution_count": 3,
     "metadata": {},
     "output_type": "execute_result"
    }
   ],
   "source": [
    "# process the csv data file into DataFrame\n",
    "def process_1():  \n",
    "    file_read = 'results.csv'; file_writ = 'results_df.csv'\n",
    "    df = pd.read_csv(file_read, parse_dates=[0])\n",
    "    df = df.drop(['city', 'country'], axis=1) \n",
    "    \n",
    "    df.to_csv(file_writ, index=False)\n",
    "    return df\n",
    "\n",
    "df1 = process_1();df1.head(2)"
   ]
  },
  {
   "cell_type": "markdown",
   "metadata": {},
   "source": [
    "## Second Round of Processing  <a name=\"DataSub2\"></a>\n",
    "\n",
    "This next processing round is only seperating the data into different time ranges.  While constructing  these date segregated DataFrames are important to future modeling, it’s not with respect to this project. The end result of this second round is:\n",
    "\n",
    "|      date       |  home_team  |  away_team  |  home_score  |  away_score  |  tournament  |  neutral  |\n",
    "| -------- | ----------- | ----------- | ------------ | ------------ | ------------ | --------  | \n",
    "| date obj |   string    |   string    |     int      |     int      |   string     |   bool    | \n",
    "\n",
    "The period begins after of the 1978 World Cup and ends at the conclusion of the 2018 World Cup.  This coincides with the expansion of the World Cup Field to 32 teams.  Overall this era includes more competitive teams and increased results for those teams."
   ]
  },
  {
   "cell_type": "code",
   "execution_count": 4,
   "metadata": {},
   "outputs": [
    {
     "data": {
      "text/html": [
       "<div>\n",
       "<style scoped>\n",
       "    .dataframe tbody tr th:only-of-type {\n",
       "        vertical-align: middle;\n",
       "    }\n",
       "\n",
       "    .dataframe tbody tr th {\n",
       "        vertical-align: top;\n",
       "    }\n",
       "\n",
       "    .dataframe thead th {\n",
       "        text-align: right;\n",
       "    }\n",
       "</style>\n",
       "<table border=\"1\" class=\"dataframe\">\n",
       "  <thead>\n",
       "    <tr style=\"text-align: right;\">\n",
       "      <th></th>\n",
       "      <th>date</th>\n",
       "      <th>home_team</th>\n",
       "      <th>away_team</th>\n",
       "      <th>home_score</th>\n",
       "      <th>away_score</th>\n",
       "      <th>tournament</th>\n",
       "      <th>neutral</th>\n",
       "    </tr>\n",
       "  </thead>\n",
       "  <tbody>\n",
       "    <tr>\n",
       "      <th>0</th>\n",
       "      <td>1978-06-28</td>\n",
       "      <td>Iceland</td>\n",
       "      <td>Denmark</td>\n",
       "      <td>0</td>\n",
       "      <td>0</td>\n",
       "      <td>Friendly</td>\n",
       "      <td>False</td>\n",
       "    </tr>\n",
       "    <tr>\n",
       "      <th>1</th>\n",
       "      <td>1978-06-28</td>\n",
       "      <td>Sweden</td>\n",
       "      <td>Finland</td>\n",
       "      <td>2</td>\n",
       "      <td>1</td>\n",
       "      <td>Nordic Championship</td>\n",
       "      <td>False</td>\n",
       "    </tr>\n",
       "    <tr>\n",
       "      <th>2</th>\n",
       "      <td>1978-07-02</td>\n",
       "      <td>Algeria</td>\n",
       "      <td>Iraq</td>\n",
       "      <td>1</td>\n",
       "      <td>1</td>\n",
       "      <td>Friendly</td>\n",
       "      <td>False</td>\n",
       "    </tr>\n",
       "    <tr>\n",
       "      <th>3</th>\n",
       "      <td>1978-07-02</td>\n",
       "      <td>Guadeloupe</td>\n",
       "      <td>Jamaica</td>\n",
       "      <td>1</td>\n",
       "      <td>0</td>\n",
       "      <td>CFU Caribbean Cup qualification</td>\n",
       "      <td>False</td>\n",
       "    </tr>\n",
       "    <tr>\n",
       "      <th>4</th>\n",
       "      <td>1978-07-04</td>\n",
       "      <td>Algeria</td>\n",
       "      <td>Iraq</td>\n",
       "      <td>0</td>\n",
       "      <td>0</td>\n",
       "      <td>Friendly</td>\n",
       "      <td>False</td>\n",
       "    </tr>\n",
       "  </tbody>\n",
       "</table>\n",
       "</div>"
      ],
      "text/plain": [
       "        date   home_team away_team  home_score  away_score  \\\n",
       "0 1978-06-28     Iceland   Denmark           0           0   \n",
       "1 1978-06-28      Sweden   Finland           2           1   \n",
       "2 1978-07-02     Algeria      Iraq           1           1   \n",
       "3 1978-07-02  Guadeloupe   Jamaica           1           0   \n",
       "4 1978-07-04     Algeria      Iraq           0           0   \n",
       "\n",
       "                        tournament  neutral  \n",
       "0                         Friendly    False  \n",
       "1              Nordic Championship    False  \n",
       "2                         Friendly    False  \n",
       "3  CFU Caribbean Cup qualification    False  \n",
       "4                         Friendly    False  "
      ]
     },
     "execution_count": 4,
     "metadata": {},
     "output_type": "execute_result"
    }
   ],
   "source": [
    "# takes process_1(df) and returns df within begin / end timespan\n",
    "def process_2(df1, begin, end):         \n",
    "    df = df1[df1['date'] >= begin]\n",
    "    df = df[df['date'] <= end] \n",
    "    df.index = range(len(df))\n",
    "    return df\n",
    "\n",
    "begin = pd.Timestamp('1978-06-26') #  1978 World Cup ends\n",
    "end = pd.Timestamp('2018-07-16') #  2018 World Cup ends\n",
    "df2 = process_2(df1, begin, end); df2.head(5)"
   ]
  },
  {
   "cell_type": "markdown",
   "metadata": {},
   "source": [
    "## Third Round of Processing  <a name=\"DataSub3\"></a>\n",
    "\n",
    "Exploding the the DataFrame rows so that there is only a single team per row.  This does facilitate some of the later visualations in this report, but once again it is only truly necessary for \"further research\".  Individualy inserting rows involves extensive processing time.  the approach is to create a new DataFrame from the current DataFrame columns through modified column lists and then using vectorized methods to create any mecessay new columns I need. This is the final goal:\n",
    "\n",
    "|   date   |  team  |  home  |  score  |  concede  |  gdf   |  win  |  draw  |  result  |\n",
    "| -------- | ------ | ------ | ------- | --------- | ------ | ----- | ------ | -------- |    \n",
    "| date obj | string |  bool  |   int   |    int    | string | bool  |  bool  |  float   |\n",
    "\n"
   ]
  },
  {
   "cell_type": "code",
   "execution_count": 5,
   "metadata": {},
   "outputs": [
    {
     "data": {
      "text/html": [
       "<div>\n",
       "<style scoped>\n",
       "    .dataframe tbody tr th:only-of-type {\n",
       "        vertical-align: middle;\n",
       "    }\n",
       "\n",
       "    .dataframe tbody tr th {\n",
       "        vertical-align: top;\n",
       "    }\n",
       "\n",
       "    .dataframe thead th {\n",
       "        text-align: right;\n",
       "    }\n",
       "</style>\n",
       "<table border=\"1\" class=\"dataframe\">\n",
       "  <thead>\n",
       "    <tr style=\"text-align: right;\">\n",
       "      <th></th>\n",
       "      <th>date</th>\n",
       "      <th>team</th>\n",
       "      <th>home</th>\n",
       "      <th>neutral</th>\n",
       "      <th>score</th>\n",
       "      <th>concede</th>\n",
       "      <th>gdf</th>\n",
       "      <th>draw</th>\n",
       "      <th>win</th>\n",
       "      <th>result</th>\n",
       "    </tr>\n",
       "  </thead>\n",
       "  <tbody>\n",
       "    <tr>\n",
       "      <th>0</th>\n",
       "      <td>1978-06-28</td>\n",
       "      <td>Iceland</td>\n",
       "      <td>True</td>\n",
       "      <td>False</td>\n",
       "      <td>0</td>\n",
       "      <td>0</td>\n",
       "      <td>0</td>\n",
       "      <td>True</td>\n",
       "      <td>False</td>\n",
       "      <td>1</td>\n",
       "    </tr>\n",
       "    <tr>\n",
       "      <th>1</th>\n",
       "      <td>1978-06-28</td>\n",
       "      <td>Denmark</td>\n",
       "      <td>False</td>\n",
       "      <td>False</td>\n",
       "      <td>0</td>\n",
       "      <td>0</td>\n",
       "      <td>0</td>\n",
       "      <td>True</td>\n",
       "      <td>False</td>\n",
       "      <td>1</td>\n",
       "    </tr>\n",
       "  </tbody>\n",
       "</table>\n",
       "</div>"
      ],
      "text/plain": [
       "        date     team   home  neutral  score  concede  gdf  draw    win  \\\n",
       "0 1978-06-28  Iceland   True    False      0        0    0  True  False   \n",
       "1 1978-06-28  Denmark  False    False      0        0    0  True  False   \n",
       "\n",
       "   result  \n",
       "0       1  \n",
       "1       1  "
      ]
     },
     "execution_count": 5,
     "metadata": {},
     "output_type": "execute_result"
    }
   ],
   "source": [
    "# process df2 before exploding rows\n",
    "def before_explode(df):\n",
    "    df = df.drop(['tournament'], axis=1)\n",
    "    return df\n",
    "# columns that can be added with vectorized method after new df created\n",
    "def after_explode(df):\n",
    "    df['gdf']      = np.subtract(df.score, df.concede)\n",
    "    df['draw']     = np.where(df['gdf'] == 0, True, False)\n",
    "    df['win']      = np.where(df.gdf > 0, True, False)\n",
    "    df['result']   = np.where((df.win),3 ,0) +  np.where((df.draw),1 ,0)\n",
    "    df['gdf']      = df.gdf.abs()      \n",
    "    return(df)\n",
    "# process 2   ==>  ['date', 'home_team', 'away_team', 'home_score', 'away_score', 'tournament', 'neutral'] \n",
    "# process 3.1 ==>  ['date', 'home_team', 'away_team', 'home_score', 'away_score','neutral', 'home']\n",
    "# process 3.2 ==>  ['date', 'team', 'home', 'score', 'concede']\n",
    "# process 3.3 ==>  ['date', 'team', 'home', 'score', 'concede', 'gdf', 'win', 'draw', 'result']\n",
    "def process_3(df2): \n",
    "    ret = pd.DataFrame()     \n",
    "    labels = ['date', 'team', 'home', 'neutral','score', 'concede']\n",
    "    date = []; team = []; home =[]; score =[]; concede =[]; neutral = []\n",
    "    df = before_explode(df2)\n",
    "    for i in range(len(df)):     # create new col lists with \n",
    "        date.append(df.iat[i,0]);     date.append(df.iat[i,0])\n",
    "        team.append(df.iat[i,1]);     team.append(df.iat[i,2])\n",
    "        home.append(not df.iat[i,5]); home.append(False)\n",
    "        score.append(df.iat[i,3]);    score.append(df.iat[i,4])\n",
    "        concede.append(df.iat[i,4]);  concede.append(df.iat[i,3]) \n",
    "        neutral.append(df.iat[i,5]);  neutral.append(df.iat[i,5]) \n",
    "    for col in labels:\n",
    "        ret[col] = pd.Series(eval(col))    \n",
    "    ret =  after_explode(ret)\n",
    "    return  ret\n",
    "\n",
    "df3 = process_3(df2); df3.head(2)"
   ]
  },
  {
   "cell_type": "markdown",
   "metadata": {},
   "source": [
    "## Ask and Answer Analytic Questions <a name=\"Analysis\"></a>\n",
    "\n",
    "The result column is created using the typical football standings approach of awarding 3 points for a win and 1 point for a tie.  This metric allows for some qualitative analysis.  Specifically for this dataset we can select a group of 5 \"best\" teams for comparisons.  But to start with: "
   ]
  },
  {
   "cell_type": "markdown",
   "metadata": {},
   "source": [
    "# Let's Look at Goal Differential <a name=\"AlsSub01\"></a>\n",
    "\n",
    "Football is a low scoring, that's one of the reasons that developing a statistical model is difficult.  Because no matter what the purest of the football purist says, there are lucky goals. Plus in the dreaded \"Further Research\", I will propose that the \"best\" result is a 2-0 (or better stated as dos y cero) win. \n",
    "\n",
    "Analytic Question One - What is the typical Goal Differential? Let's look at some stats.  "
   ]
  },
  {
   "cell_type": "code",
   "execution_count": 6,
   "metadata": {},
   "outputs": [
    {
     "name": "stdout",
     "output_type": "stream",
     "text": [
      "Goal Differential mean = 1.61, that seems reasonable\n",
      "Goal Differential standard deviation = 1.72, that causes some pause \n",
      "Goal Differential maximum = 31, that could be an issue\n",
      "Goal Differential 99th percentile = 8, let's look into this\n"
     ]
    }
   ],
   "source": [
    "print('Goal Differential mean = %3.2f, that seems reasonable' % df3.gdf.mean())\n",
    "print('Goal Differential standard deviation = %3.2f, that causes some pause ' % df3.gdf.std())\n",
    "print('Goal Differential maximum = %i, that could be an issue' % df3.gdf.max())\n",
    "print(\"Goal Differential 99th percentile = %i, let's look into this\" % np.percentile(df3.gdf, 99))"
   ]
  },
  {
   "cell_type": "markdown",
   "metadata": {},
   "source": [
    "Looking further into the data there were over 200 games with goal differentials of more that 8. How do things look if we call those outliers. "
   ]
  },
  {
   "cell_type": "code",
   "execution_count": 7,
   "metadata": {},
   "outputs": [
    {
     "name": "stdout",
     "output_type": "stream",
     "text": [
      "Mean changes from 1.61 to 1.54 and Standard Deviation changes from 1.72 to 1.48\n",
      "Goal Differential 75th percentile = 2\n"
     ]
    }
   ],
   "source": [
    "# another round of processing to eliminate games with a gdf > 8\n",
    "def process_4(df3):\n",
    "    df = df3[df3.gdf <= 8]\n",
    "    return df\n",
    "df4 = process_4(df3)\n",
    "print('Mean changes from %3.2f to %3.2f and Standard Deviation changes from %3.2f to %3.2f'\n",
    "                         % (df3.gdf.mean(), df4.gdf.mean(), df3.gdf.std(), df4.gdf.std() ))\n",
    "print(\"Goal Differential 75th percentile = %i\" % np.percentile(df4.gdf, 75))"
   ]
  },
  {
   "cell_type": "markdown",
   "metadata": {},
   "source": [
    "Now let's look at a historgram of the goal differential"
   ]
  },
  {
   "cell_type": "code",
   "execution_count": 73,
   "metadata": {},
   "outputs": [
    {
     "data": {
      "image/png": "[encoded data removed]",
      "text/plain": [
       "<Figure size 864x576 with 1 Axes>"
      ]
     },
     "metadata": {
      "needs_background": "light"
     },
     "output_type": "display_data"
    }
   ],
   "source": [
    "x = df4.gdf\n",
    "fig = plt.figure(figsize=(12, 8))\n",
    "ax = fig.add_subplot(1, 1, 1, aspect=8)\n",
    "ax.hist(x,bins=8, density=True, color='lime')\n",
    "ax.hist(x,bins=8, density=True, color='red', histtype='step')\n",
    "\n",
    "ax.set_title('International Football Goal Differential')\n",
    "plt.show()\n"
   ]
  },
  {
   "cell_type": "markdown",
   "metadata": {},
   "source": [
    "# Who's Number One? <a name=\"AlsSub02\"></a>\n",
    "\n",
    "Analytic Question Two - For this time period, which teams performed the best? And how does this \"result\" statitic ranking compare to much more sophisticated ranking systems? \n",
    "\n",
    "Initially, let's select the five teams with the highest \"result\" mean."
   ]
  },
  {
   "cell_type": "code",
   "execution_count": 36,
   "metadata": {},
   "outputs": [
    {
     "data": {
      "text/html": [
       "<div>\n",
       "<style scoped>\n",
       "    .dataframe tbody tr th:only-of-type {\n",
       "        vertical-align: middle;\n",
       "    }\n",
       "\n",
       "    .dataframe tbody tr th {\n",
       "        vertical-align: top;\n",
       "    }\n",
       "\n",
       "    .dataframe thead th {\n",
       "        text-align: right;\n",
       "    }\n",
       "</style>\n",
       "<table border=\"1\" class=\"dataframe\">\n",
       "  <thead>\n",
       "    <tr style=\"text-align: right;\">\n",
       "      <th></th>\n",
       "      <th>result</th>\n",
       "    </tr>\n",
       "    <tr>\n",
       "      <th>team</th>\n",
       "      <th></th>\n",
       "    </tr>\n",
       "  </thead>\n",
       "  <tbody>\n",
       "    <tr>\n",
       "      <th>Padania</th>\n",
       "      <td>2.297297</td>\n",
       "    </tr>\n",
       "    <tr>\n",
       "      <th>Jersey</th>\n",
       "      <td>2.246575</td>\n",
       "    </tr>\n",
       "    <tr>\n",
       "      <th>Brazil</th>\n",
       "      <td>2.142857</td>\n",
       "    </tr>\n",
       "    <tr>\n",
       "      <th>County of Nice</th>\n",
       "      <td>2.111111</td>\n",
       "    </tr>\n",
       "    <tr>\n",
       "      <th>Spain</th>\n",
       "      <td>2.059735</td>\n",
       "    </tr>\n",
       "  </tbody>\n",
       "</table>\n",
       "</div>"
      ],
      "text/plain": [
       "                  result\n",
       "team                    \n",
       "Padania         2.297297\n",
       "Jersey          2.246575\n",
       "Brazil          2.142857\n",
       "County of Nice  2.111111\n",
       "Spain           2.059735"
      ]
     },
     "execution_count": 36,
     "metadata": {},
     "output_type": "execute_result"
    }
   ],
   "source": [
    "gb = df4.groupby('team')['result'].mean()\n",
    "df_rm = pd.DataFrame(gb).sort_values(by='result', ascending=False)\n",
    "df_rm.head()"
   ]
  },
  {
   "cell_type": "markdown",
   "metadata": {},
   "source": [
    "Admittedly not the expected result and with the exception of Brazil and Spain these are not your typical football powerhouse teams. It's probably fair to describe the other three teams as obscure.  After a little research, [Padania](https://en.wikipedia.org/wiki/Padania) is not really a nation.   Those \"obscure\" national teams are [CONIFA](https://en.wikipedia.org/wiki/Confederation_of_Independent_Football_Associations) members.  As non-FIFA members they are not eligible to participate in the World Cup.  Instead of a further data processing to inlude only FIFA nations, let's check on some team statistics for \"games played\" in the dataset.    "
   ]
  },
  {
   "cell_type": "code",
   "execution_count": 37,
   "metadata": {},
   "outputs": [
    {
     "name": "stdout",
     "output_type": "stream",
     "text": [
      "The mean for matches played in this dataset is 201 and the standard deviation is 163\n"
     ]
    }
   ],
   "source": [
    "#count how many matches per team \n",
    "gb1 = df4.groupby('team')['result'].count()\n",
    "df_rc = pd.DataFrame(gb1)\n",
    "df_rc['team'] = df_rc.index;df_rc.index = range(len(df_rc))\n",
    "print(\"The mean for matches played in this dataset is %d and the standard deviation is %d\" %  (df_rc.mean(),df_rc.std()))"
   ]
  },
  {
   "cell_type": "markdown",
   "metadata": {},
   "source": [
    "Let's eliminate any teams with less 100 results. "
   ]
  },
  {
   "cell_type": "code",
   "execution_count": 38,
   "metadata": {},
   "outputs": [
    {
     "data": {
      "text/plain": [
       "['Brazil', 'Spain', 'Germany', 'France', 'Iran']"
      ]
     },
     "execution_count": 38,
     "metadata": {},
     "output_type": "execute_result"
    }
   ],
   "source": [
    "df_100 = df_rc.where(df_rc.result >= 100)\n",
    "df = df_rm[df_rm.index.isin(df_100.team)][0:5]\n",
    "best_teams = df.index.tolist(); dfbest = df4[df4.team.isin(best_teams)]\n",
    "best_teams"
   ]
  },
  {
   "cell_type": "markdown",
   "metadata": {},
   "source": [
    "Here's the [FIFA  Rankings](https://www.fifa.com/fifa-world-ranking/ranking-table/men/rank/id12210) and the [ELO rankings](https://www.eloratings.net/2018_World_Cup) at same point in time.  \n",
    "\n",
    "| **Rating Systems**  |   **\"Result\" Rankings**      | **Elo Ratings** | **FIFA Rankings** |\n",
    "|:-----------------:|:------------:|:---------------:|:---------------:|\n",
    "|**Brazil**|**1**|**2**|**2**|\n",
    "|**Spain**|**2**|**4**|**10**|\n",
    "|**Germany**|**3**|**5**|**1**|\n",
    "|**France**|**4**|**1**|**7**|\n",
    "|**Iran**|**5**|**20**|**37**|\n",
    "\n",
    "Is it surprising that four of the five top ranked ELO ranked were likewise identified by just analyzing win, loss and tie results?  Maybe not.\n",
    "\n",
    "- The data involved, match results is nearly the same.  Actually the [International football results from 1872 to 2018](https://www.kaggle.com/martj42/international-football-results-from-1872-to-2017) eliminated some lower quality matches where teams \"B\" teams participated.  Note to \"future research\", evaluate how to weight match results based upon importance of the match. Winning the World Cup should bring a very large positive adjustment.  \n",
    "\n",
    "- Both ranking systems are cumulative in nature.  Meaning that there is a rating that is adjusted up or down based upon individual match results.  \n",
    "\n",
    "- Even though the team's players change over time, the \"best\" national teams seem to stay in that best category.  For the 32 team World Cup era, the four teams identified in both top 5 rankings have won 7 of the 10 world cups. Note to \"future research\", evaluate \"regressing to the mean\" Every year? Every four year World Cup cycle?\n",
    " \n",
    "Why are are the FIFA rankings not included in the above discussion?  FIFA adopted a ELO-like ranking system after the 2018 World Cup.\n"
   ]
  },
  {
   "cell_type": "markdown",
   "metadata": {},
   "source": [
    "# Defense Wins? <a name=\"AlsSub03\"></a>\n",
    "\n",
    "Sure you win by scoring more goals, but you never lose with a \"clean sheet\" ... that's when the other team does not score. A simple way to look at average goals scored and average goals conceded for the best teams compared to the medicore.\n",
    "\n"
   ]
  },
  {
   "cell_type": "code",
   "execution_count": 39,
   "metadata": {},
   "outputs": [],
   "source": [
    "# scoring for best teams\n",
    "score = []; concede = []\n",
    "gb = dfbest.groupby('team').mean()\n",
    "for team in best_teams:\n",
    "    score.append(gb.score[team])\n",
    "    concede.append(gb.concede[team])\n",
    "score.append(df4.score.mean());concede.append(df4.concede.mean()); best_teams.append('Average')"
   ]
  },
  {
   "cell_type": "code",
   "execution_count": 41,
   "metadata": {},
   "outputs": [
    {
     "data": {
      "image/png": "[encoded data removed]",
      "text/plain": [
       "<Figure size 864x576 with 1 Axes>"
      ]
     },
     "metadata": {
      "needs_background": "light"
     },
     "output_type": "display_data"
    }
   ],
   "source": [
    "blue = score; red = concede; width = 0.35  # the width of the bars\n",
    "ind = np.arange(len(score))\n",
    "fig = plt.figure(figsize=(12, 8))\n",
    "ax = fig.add_subplot(1, 1, 1, aspect=1)\n",
    "rects1 = ax.bar(ind - width/2, blue, width, color='SkyBlue', label='Goals Scored')\n",
    "rects2 = ax.bar(ind + width/2, red, width, color='IndianRed', label='Goals Conceded')\n",
    "ax.set_ylabel('Goals')\n",
    "ax.set_title('')\n",
    "ax.set_xticks(ind)\n",
    "ax.set_xticklabels(best_teams)\n",
    "ax.legend('Average Goals Scored and Conceded')\n",
    "plt.show()"
   ]
  },
  {
   "cell_type": "markdown",
   "metadata": {},
   "source": [
    " # Is there a home field advantage?<a name=\"AlsSub04\"></a>\n",
    "\n",
    "In team sports, home records are almost always better than away records.  With the ELO rankings for two equal teams, the home team's win probability increases from 0.50 to 0.64. \n",
    "\n",
    "Analytic Question four - Do teams play better in their home field? Is the home field advantage so signicant that these matches differ statistically than neutral field matches? Let's look at some statistics for \"home team\" results compared to match results played on a neutral field."
   ]
  },
  {
   "cell_type": "code",
   "execution_count": 42,
   "metadata": {},
   "outputs": [
    {
     "name": "stdout",
     "output_type": "stream",
     "text": [
      "Home field  result mean is  1.75 as compared to the overall dataset value of  1.38\n",
      "Home field  goals scored  mean of  1.61  as as compared to the overall dataset value of  1.37\n",
      "Home field  goals conceded mean of 0.99 as as compared to the overall dataset value of 1.37\n"
     ]
    }
   ],
   "source": [
    "df_home = df4[df4.home == True]\n",
    "df_ntrl = df4[df4.neutral == True]\n",
    "hme_rslt = df_home.result.mean();  ntrl_rslt = df_ntrl.result.mean()\n",
    "hme_scre = df_home.score.mean();   ntrl_scre = df_ntrl.score.mean()\n",
    "hme_cncd = df_home.concede.mean(); ntrl_cncd = df_ntrl.concede.mean()\n",
    "\n",
    "print(\"Home field  result mean is %5.2f as compared to the overall dataset value of %5.2f\" % (hme_rslt,ntrl_rslt))\n",
    "print(\"Home field  goals scored  mean of %5.2f  as as compared to the overall dataset value of %5.2f\" %(hme_scre, ntrl_scre))\n",
    "print(\"Home field  goals conceded mean of %3.2f as as compared to the overall dataset value of %3.2f\" % (hme_cncd, ntrl_cncd))"
   ]
  },
  {
   "cell_type": "markdown",
   "metadata": {},
   "source": [
    "A quick look at the continous variables utilizing bar histograms.  Nothing unexpected or dramatic in these plots.  The significance here is that the plots suggest that home field and neutral field probaliby functions are the same.  "
   ]
  },
  {
   "cell_type": "code",
   "execution_count": 72,
   "metadata": {},
   "outputs": [
    {
     "data": {
      "image/png": "[encoded data removed]",
      "text/plain": [
       "<Figure size 1296x1728 with 4 Axes>"
      ]
     },
     "metadata": {
      "needs_background": "light"
     },
     "output_type": "display_data"
    }
   ],
   "source": [
    "def hist_bars_2(df1, df2, cols, label):\n",
    "    colors = ['red','lime']; col_wdth = 9; row_hght = 6; ncols = 2 # given\n",
    "    cols = cols; label = label; nrows = len(cols)                  # \n",
    "    fig = plt.figure(1, (col_wdth * ncols, row_hght * nrows))\n",
    "    index = 0\n",
    "    nbins = {'score':10, 'concede':9, 'gdf':8, 'result':3}\n",
    "    for col in cols:\n",
    "        index += 1\n",
    "        ax = plt.subplot(nrows, ncols, index)\n",
    "        pop1 = getattr(df1, col).tolist()\n",
    "        pop2 = getattr(df2, col).tolist()\n",
    "        x = (pop1, pop2)\n",
    "        ax.hist(x, bins=nbins[col],density=True, histtype='bar', color=colors, label=label)\n",
    "        ax.legend(prop={'size': 10})\n",
    "        ax.set_title(col)\n",
    "    plt.show()\n",
    "    return \n",
    "\n",
    "cols = ['score', 'concede', 'gdf', 'result']\n",
    "labels = ['Home Field Matches', 'Neutral Field Matches']\n",
    "hist_bars_2(df_home, df_ntrl, cols, labels )"
   ]
  },
  {
   "cell_type": "code",
   "execution_count": null,
   "metadata": {},
   "outputs": [],
   "source": []
  },
  {
   "cell_type": "code",
   "execution_count": null,
   "metadata": {},
   "outputs": [],
   "source": []
  }
 ],
 "metadata": {
  "kernelspec": {
   "display_name": "Python 3",
   "language": "python",
   "name": "python3"
  },
  "language_info": {
   "codemirror_mode": {
    "name": "ipython",
    "version": 3
   },
   "file_extension": ".py",
   "mimetype": "text/x-python",
   "name": "python",
   "nbconvert_exporter": "python",
   "pygments_lexer": "ipython3",
   "version": "3.7.0"
  }
 },
 "nbformat": 4,
 "nbformat_minor": 2
}
