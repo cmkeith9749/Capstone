{
 "cells": [
  {
   "cell_type": "code",
   "execution_count": null,
   "metadata": {},
   "outputs": [],
   "source": [
    "import numpy as np\n",
    "import pandas as pd"
   ]
  },
  {
   "cell_type": "code",
   "execution_count": null,
   "metadata": {},
   "outputs": [],
   "source": [
    "# creates a test df1 for testing functions\n",
    "def test_dataframe():\n",
    "    s1 = pd.Series(['2000-03-01',    'Zambia',    'Lesotho',    False,    2,  False,      True,  20])\n",
    "    s2 = pd.Series(['2000-03-04',  'Honduras',  'Nicaragua',    False,    3,  False,      True,  40])\n",
    "    s3 = pd.Series(['2000-03-12',    'Zambia',    'Malawi',    False,    0,  True,      False,  20])\n",
    "    s4 = pd.Series(['2000-03-13',    'Zambia',    'Malawi',    False,    1,  False,      False,  20])\n",
    "    s5 = pd.Series(['2018-07-07',  'Russia',  'Croatia',    False,    0,   True,     False,  60])\n",
    "    s6 = pd.Series(['2018-07-10',  'France',  'Belgium',     True,    1,  False,      True,  60])\n",
    "    test = pd.concat([s1, s2, s3, s4], axis=1, sort=False).T \n",
    "    test.columns = ['date',    'home',     'away',  'neutral',  'gdf',   'draw', 'home_win',   'k']\n",
    "    return(test)\n",
    "\n",
    "# creates rtgs dict for the above test df\n",
    "def test_rtgs():\n",
    "    return {'Zambia':1553, 'Lesotho':1113,'Honduras':1674, 'Nicaragua':932, 'Malawi':1236 }"
   ]
  },
  {
   "cell_type": "code",
   "execution_count": null,
   "metadata": {},
   "outputs": [],
   "source": [
    "df = pd.DataFrame(np.random.rand(10,5),columns=list('ABCDE'))\n",
    "df"
   ]
  },
  {
   "cell_type": "code",
   "execution_count": null,
   "metadata": {},
   "outputs": [],
   "source": [
    "dfd = df.to_dict()\n",
    "dfd"
   ]
  },
  {
   "cell_type": "code",
   "execution_count": null,
   "metadata": {},
   "outputs": [],
   "source": [
    "df['idx'] =  df.index * 2\n",
    "df = df.set_index('idx')\n",
    "df"
   ]
  },
  {
   "cell_type": "code",
   "execution_count": null,
   "metadata": {},
   "outputs": [],
   "source": []
  },
  {
   "cell_type": "code",
   "execution_count": null,
   "metadata": {},
   "outputs": [],
   "source": [
    "import string\n",
    "string.ascii_lowercase\n"
   ]
  },
  {
   "cell_type": "code",
   "execution_count": null,
   "metadata": {},
   "outputs": [],
   "source": [
    "\n",
    "def after_split(df):\n",
    "    df['gdf']      = np.subtract(df.home_score, df.away_score)\n",
    "    df['draw']     = np.where(df['gdf'] == 0, True, False)\n",
    "    df['win']      = np.where(df.gdf > 0, True, False)\n",
    "    df['result']   = np.where((df.win),3 ,0) +  np.where((df.draw),1 ,0)\n",
    "    df['gdf']      = df.gdf.abs()      \n",
    "    return(df)\n",
    " \n",
    "def create_switch(keys, func, param, data):\n",
    "    ret = defaultdict(dict)\n",
    "    for i in range(len(keys)):  \n",
    "        ret[keys[i]] = {'func':func[i], 'param': param[i] }\n",
    "    return ret\n",
    "\n",
    "def rs_same(dict):\n",
    "    lth = len(dict) * 2 - 1 \n",
    "    for i in range(1,lth,2):\n",
    "        dict[i] = dict[i-1]\n",
    "    return dict \n",
    "\n",
    "def rs_othr(list):\n",
    "    lth = len(list[0]) * 2 - 1 \n",
    "    for i in range(1,lth,2):\n",
    "        list[0][i] = list[1][i-1]\n",
    "    return list[0]    \n",
    "\n",
    "def rs_valu(list):\n",
    "    lth = list[0] * 2 - 1 \n",
    "    for i in range(1,lth,2):\n",
    "        list[0][i] = list[1]\n",
    "    return dict \n",
    "\n",
    "def rs_nott(dict):\n",
    "    lth = len(dict) * 2 - 1 \n",
    "    for i in range(1,lth,2):\n",
    "        dict[i] = not dict[i-1]\n",
    "    return dict \n",
    "\n",
    "               \n",
    "def process_3(df2): \n",
    "    ret = pd.DataFrame()\n",
    "    \n",
    "    df = before_split(df2)         \n",
    "    data = df.to_dict()\n",
    "    \n",
    "    labels = ['date', 'team', 'at_home', 'score', 'concede']\n",
    "    func =   ['rs_same', 'rs_othr', 'rs_valu','rs_othr','rs_othr']\n",
    "    param =  [data['date'], [data['home'], data['away']], [data['at_home'], False], [data['home_score'], data['away_score']], [data['away_score'], data['home_score']]]\n",
    "    switch = create_switch(labels, func, param, data)                      \n",
    "    \n",
    "    for lab in labels:\n",
    "        name = 'dict_' + lab\n",
    "        name = eval(switch[lab]['func'])(switch[lab]['param'])\n",
    "        \n",
    "    \n",
    "    return ret\n",
    "    "
   ]
  }
 ],
 "metadata": {
  "kernelspec": {
   "display_name": "Python 3",
   "language": "python",
   "name": "python3"
  },
  "language_info": {
   "codemirror_mode": {
    "name": "ipython",
    "version": 3
   },
   "file_extension": ".py",
   "mimetype": "text/x-python",
   "name": "python",
   "nbconvert_exporter": "python",
   "pygments_lexer": "ipython3",
   "version": "3.7.0"
  }
 },
 "nbformat": 4,
 "nbformat_minor": 2
}
