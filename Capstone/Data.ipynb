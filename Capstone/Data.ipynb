{
 "cells": [
  {
   "cell_type": "markdown",
   "metadata": {},
   "source": [
    "1. [Introduction](#introduction)\n",
    "2. [Format](#Data)\n",
    "    1. [DataFrame from File](#Datasub1)\n",
    "    2. [Prepare DataFrame for Analysis](#Datasub2)\n"
   ]
  },
  {
   "cell_type": "code",
   "execution_count": 1,
   "metadata": {},
   "outputs": [],
   "source": [
    "import numpy as np\n",
    "import pandas as pd\n",
    "import json\n",
    "from collections import defaultdict\n"
   ]
  },
  {
   "cell_type": "markdown",
   "metadata": {},
   "source": [
    "\n",
    "For the overall statistical modeling and Analysis I need to break the data into time periods these time periods to separate the World Cup tournaments. Basically each time period Is defined by the end of the World Cup and the start of the next World Cup as shown below.  The naming convention for the time periods is set where \"wc1974\" is the date range of the 1974 world cup tournament and \"1974\" is the date range from the end of the 1974 World Cup to the beginning of the 1978 World Cup.  \n",
    "\n",
    "\n",
    "\n",
    "\n",
    "\n"
   ]
  },
  {
   "cell_type": "code",
   "execution_count": 2,
   "metadata": {},
   "outputs": [],
   "source": [
    "# this file is the includes the begin and end date of world cups from 1970 to 2018\n",
    "file = 'beg_end.csv'\n",
    "bgn_end = pd.read_csv(file)"
   ]
  },
  {
   "cell_type": "code",
   "execution_count": 5,
   "metadata": {},
   "outputs": [
    {
     "data": {
      "text/html": [
       "<div>\n",
       "<style scoped>\n",
       "    .dataframe tbody tr th:only-of-type {\n",
       "        vertical-align: middle;\n",
       "    }\n",
       "\n",
       "    .dataframe tbody tr th {\n",
       "        vertical-align: top;\n",
       "    }\n",
       "\n",
       "    .dataframe thead th {\n",
       "        text-align: right;\n",
       "    }\n",
       "</style>\n",
       "<table border=\"1\" class=\"dataframe\">\n",
       "  <thead>\n",
       "    <tr style=\"text-align: right;\">\n",
       "      <th></th>\n",
       "      <th>year</th>\n",
       "      <th>bgn_mth</th>\n",
       "      <th>bgn_day</th>\n",
       "      <th>end_mth</th>\n",
       "      <th>end_day</th>\n",
       "    </tr>\n",
       "  </thead>\n",
       "  <tbody>\n",
       "    <tr>\n",
       "      <th>0</th>\n",
       "      <td>1970</td>\n",
       "      <td>5</td>\n",
       "      <td>31</td>\n",
       "      <td>6</td>\n",
       "      <td>21</td>\n",
       "    </tr>\n",
       "    <tr>\n",
       "      <th>1</th>\n",
       "      <td>1974</td>\n",
       "      <td>6</td>\n",
       "      <td>13</td>\n",
       "      <td>7</td>\n",
       "      <td>7</td>\n",
       "    </tr>\n",
       "    <tr>\n",
       "      <th>2</th>\n",
       "      <td>1978</td>\n",
       "      <td>6</td>\n",
       "      <td>1</td>\n",
       "      <td>6</td>\n",
       "      <td>25</td>\n",
       "    </tr>\n",
       "    <tr>\n",
       "      <th>3</th>\n",
       "      <td>1982</td>\n",
       "      <td>6</td>\n",
       "      <td>13</td>\n",
       "      <td>7</td>\n",
       "      <td>11</td>\n",
       "    </tr>\n",
       "    <tr>\n",
       "      <th>4</th>\n",
       "      <td>1986</td>\n",
       "      <td>5</td>\n",
       "      <td>31</td>\n",
       "      <td>6</td>\n",
       "      <td>29</td>\n",
       "    </tr>\n",
       "  </tbody>\n",
       "</table>\n",
       "</div>"
      ],
      "text/plain": [
       "   year  bgn_mth  bgn_day  end_mth   end_day\n",
       "0  1970        5       31        6        21\n",
       "1  1974        6       13        7         7\n",
       "2  1978        6        1        6        25\n",
       "3  1982        6       13        7        11\n",
       "4  1986        5       31        6        29"
      ]
     },
     "execution_count": 5,
     "metadata": {},
     "output_type": "execute_result"
    }
   ],
   "source": [
    "bgn_end.head()"
   ]
  },
  {
   "cell_type": "markdown",
   "metadata": {},
   "source": [
    " The data for project in a dictionary of dictionaries saved as a JSON file.  The data format is:\n",
    " ```\n",
    " {1970 : {'year': '1970',     \n",
    "          'df1': csv file name for DataFrame from result_1().to_csv()\n",
    "          'df2': csv file name for DataFrame from result_2().to_csv()\n",
    "          'rtg': dict with all team ratings from end of period,\n",
    "          'rsl': csv file name for DataFrame from results().to_csv(),\n",
    "          'bgn': begin date as pandas datetime 64,\n",
    "          'end': end date as pandas datetime 64,\n",
    "          }, \n",
    "   1974 : {'year': '1974', ......    \n",
    "  }           \n",
    " ```"
   ]
  },
  {
   "cell_type": "code",
   "execution_count": null,
   "metadata": {},
   "outputs": [],
   "source": [
    "# reads the saved data\n",
    "with open('read.json') as data_file:    \n",
    "    data = json.load(data_file)"
   ]
  },
  {
   "cell_type": "code",
   "execution_count": null,
   "metadata": {},
   "outputs": [],
   "source": [
    "# writes any revisions to json\n",
    "with open('read.json', 'w') as outfile:\n",
    "    json.dump(data, outfile, sort_keys=True, indent=4)"
   ]
  },
  {
   "cell_type": "code",
   "execution_count": 2,
   "metadata": {},
   "outputs": [
    {
     "data": {
      "text/html": [
       "<div>\n",
       "<style scoped>\n",
       "    .dataframe tbody tr th:only-of-type {\n",
       "        vertical-align: middle;\n",
       "    }\n",
       "\n",
       "    .dataframe tbody tr th {\n",
       "        vertical-align: top;\n",
       "    }\n",
       "\n",
       "    .dataframe thead th {\n",
       "        text-align: right;\n",
       "    }\n",
       "</style>\n",
       "<table border=\"1\" class=\"dataframe\">\n",
       "  <thead>\n",
       "    <tr style=\"text-align: right;\">\n",
       "      <th></th>\n",
       "      <th>date</th>\n",
       "      <th>home_team</th>\n",
       "      <th>away_team</th>\n",
       "      <th>home_score</th>\n",
       "      <th>away_score</th>\n",
       "      <th>tournament</th>\n",
       "      <th>city</th>\n",
       "      <th>country</th>\n",
       "      <th>neutral</th>\n",
       "    </tr>\n",
       "  </thead>\n",
       "  <tbody>\n",
       "    <tr>\n",
       "      <th>0</th>\n",
       "      <td>1872-11-30</td>\n",
       "      <td>Scotland</td>\n",
       "      <td>England</td>\n",
       "      <td>0</td>\n",
       "      <td>0</td>\n",
       "      <td>Friendly</td>\n",
       "      <td>Glasgow</td>\n",
       "      <td>Scotland</td>\n",
       "      <td>False</td>\n",
       "    </tr>\n",
       "    <tr>\n",
       "      <th>1</th>\n",
       "      <td>1873-03-08</td>\n",
       "      <td>England</td>\n",
       "      <td>Scotland</td>\n",
       "      <td>4</td>\n",
       "      <td>2</td>\n",
       "      <td>Friendly</td>\n",
       "      <td>London</td>\n",
       "      <td>England</td>\n",
       "      <td>False</td>\n",
       "    </tr>\n",
       "    <tr>\n",
       "      <th>2</th>\n",
       "      <td>1874-03-07</td>\n",
       "      <td>Scotland</td>\n",
       "      <td>England</td>\n",
       "      <td>2</td>\n",
       "      <td>1</td>\n",
       "      <td>Friendly</td>\n",
       "      <td>Glasgow</td>\n",
       "      <td>Scotland</td>\n",
       "      <td>False</td>\n",
       "    </tr>\n",
       "    <tr>\n",
       "      <th>3</th>\n",
       "      <td>1875-03-06</td>\n",
       "      <td>England</td>\n",
       "      <td>Scotland</td>\n",
       "      <td>2</td>\n",
       "      <td>2</td>\n",
       "      <td>Friendly</td>\n",
       "      <td>London</td>\n",
       "      <td>England</td>\n",
       "      <td>False</td>\n",
       "    </tr>\n",
       "    <tr>\n",
       "      <th>4</th>\n",
       "      <td>1876-03-04</td>\n",
       "      <td>Scotland</td>\n",
       "      <td>England</td>\n",
       "      <td>3</td>\n",
       "      <td>0</td>\n",
       "      <td>Friendly</td>\n",
       "      <td>Glasgow</td>\n",
       "      <td>Scotland</td>\n",
       "      <td>False</td>\n",
       "    </tr>\n",
       "  </tbody>\n",
       "</table>\n",
       "</div>"
      ],
      "text/plain": [
       "        date home_team away_team  home_score  away_score tournament     city  \\\n",
       "0 1872-11-30  Scotland   England           0           0   Friendly  Glasgow   \n",
       "1 1873-03-08   England  Scotland           4           2   Friendly   London   \n",
       "2 1874-03-07  Scotland   England           2           1   Friendly  Glasgow   \n",
       "3 1875-03-06   England  Scotland           2           2   Friendly   London   \n",
       "4 1876-03-04  Scotland   England           3           0   Friendly  Glasgow   \n",
       "\n",
       "    country  neutral  \n",
       "0  Scotland    False  \n",
       "1   England    False  \n",
       "2  Scotland    False  \n",
       "3   England    False  \n",
       "4  Scotland    False  "
      ]
     },
     "execution_count": 2,
     "metadata": {},
     "output_type": "execute_result"
    }
   ],
   "source": [
    "df = pd.read_csv(r'results.csv', parse_dates=[0])  \n",
    "df.head()"
   ]
  },
  {
   "cell_type": "code",
   "execution_count": 3,
   "metadata": {},
   "outputs": [
    {
     "data": {
      "text/plain": [
       "date          datetime64[ns]\n",
       "home_team             object\n",
       "away_team             object\n",
       "home_score             int64\n",
       "away_score             int64\n",
       "tournament            object\n",
       "city                  object\n",
       "country               object\n",
       "neutral                 bool\n",
       "dtype: object"
      ]
     },
     "execution_count": 3,
     "metadata": {},
     "output_type": "execute_result"
    }
   ],
   "source": [
    "df.dtypes"
   ]
  },
  {
   "cell_type": "code",
   "execution_count": null,
   "metadata": {},
   "outputs": [],
   "source": [
    "#function returns df within time frame from begin & end parameters\n",
    "def results_1(begin, end):        #pandas timestamps\n",
    "    df = pd.read_csv(r'results.csv', parse_dates=[0])   \n",
    "    df = df[df['date'] >= begin]\n",
    "    df = df[df['date'] <= end]\n",
    "    df.index = range(len(df))\n",
    "    return df"
   ]
  },
  {
   "cell_type": "code",
   "execution_count": null,
   "metadata": {},
   "outputs": [],
   "source": [
    "# this code populates the data dictionary with the df1 file, begin date and end date.  \n",
    "data = defaultdict(dict)\n",
    "for i, S in bgn_end.iterrows():\n",
    "    bgn = pd.datetime(S[0], S[1], S[2])\n",
    "    end = pd.datetime(S[0], S[3], S[4])\n",
    "    df = results_1(bgn,end)\n",
    "    name = 'wc' + str(S[0])[2:]\n",
    "    file = 'df1_' + name  + '.csv'\n",
    "    df.to_csv(file, index=False)\n",
    "    data[name] = {'year':str(S[0])}\n",
    "    data[name]['df1'] = file\n",
    "    data[name]['bgn'] = str(bgn)\n",
    "    data[name]['end'] = str(end)\n",
    "    \n",
    "    "
   ]
  },
  {
   "cell_type": "markdown",
   "metadata": {},
   "source": [
    "Second phase of data processing, Final product is a DataFrame as follows:\n",
    "\n",
    "|  date    |  home   | away   | neutral | gdf | draw | win |  k   | result |\n",
    "| -------- | ------- | ------ | ------- | --- | ---- | ---  | --- | ------ |\n",
    "| date obj | string  | string |   bool  | int | bool | bool | int |  bool  |"
   ]
  },
  {
   "cell_type": "code",
   "execution_count": null,
   "metadata": {},
   "outputs": [],
   "source": [
    "file = data['1974']['df2']\n"
   ]
  },
  {
   "cell_type": "markdown",
   "metadata": {},
   "source": [
    "## Prepare DataFrame for Analysis <a name=\"Datasub2\"></a>\n",
    "\n",
    "Next I modify the DataFrame prior to apply either rating system.  I keep the *'date'*, *'home_team'* and *'away_team'* columns.  The *'home_score'* and *'away_score'* columns are combined  (winning score - losing score) into a new column **'gdf'** (goal differential as int) and deleted. Along with the that a **'home_win'** (bool) and **'not_draw'** (bool) are added. The *'neutral'* column is cast as a bool.  The *'tournament'* column values are changed to appropriate match weighting constant and the column renamed as **'k'**.  Columns *'city'* and *'country'* are not needed.\n",
    "```\n",
    "60 for World Cup, Olympic Games (1908–1980)\n",
    "50 for Continental championship and intercontinental tournaments\n",
    "40 for World Cup and Continental qualifiers and major tournaments\n",
    "30 for All other tournaments\n",
    "20 for Friendly matchess.\n",
    "```"
   ]
  },
  {
   "cell_type": "code",
   "execution_count": null,
   "metadata": {},
   "outputs": [],
   "source": [
    "def conv_tournament(S):\n",
    "    L = set(S.unique())\n",
    "    A = {'FIFA World Cup'}\n",
    "    B = {'AFC Asian Cup', 'African Cup of Nations', 'Copa América', 'Gold Cup', 'Nations Cup',\n",
    "         'Copa América', 'UEFA Euro'}\n",
    "    C = {'FIFA World Cup qualification', 'AFC Asian Cup qualification', 'African Cup of Nations qualification',\n",
    "        'Copa América qualification', 'Gold Cup qualification', 'CONCACAF Championship', 'UEFA Euro qualification'}\n",
    "    E = {'Friendly'}\n",
    "    D = L - A - B - C - E\n",
    "    return  {60:A, 50:B, 40:C, 30:D, 20:E}\n",
    "\n",
    "\n",
    "def set_k(S, dict):\n",
    "    A = []\n",
    "    for s in S:\n",
    "        for key, val in dict.items():\n",
    "            if s in val:\n",
    "                A.append(key)\n",
    "    return A\n",
    "\n",
    "\n",
    "def result(gdf):\n",
    "    if not gdf:         return 0.50\n",
    "    if gdf == abs(gdf): return 1.00\n",
    "    else:               return 0.00\n",
    "\n",
    "    \n",
    "def explore_3(df):   \n",
    "    df.columns = ['date', 'home', 'away', 'home_score', 'away_score', 'tournament', 'city', 'country', 'neutral']  \n",
    "    df['gdf']      = np.subtract(df.home_score, df.away_score)\n",
    "    df['draw']     = np.where(df['gdf'] == 0, True, False)\n",
    "    df['win']      = np.where(df.gdf > 0, True, False)\n",
    "    df['k']        = set_k(df.tournament, conv_tournament(df.tournament)) \n",
    "    df['result']   = df.gdf.apply(lambda x : result(x))  \n",
    "    df['gdf']      = df.gdf.abs()\n",
    "    df = df.drop(['home_score', 'away_score', 'city', 'country', 'tournament'], axis=1)    \n",
    "    return df"
   ]
  },
  {
   "cell_type": "code",
   "execution_count": null,
   "metadata": {},
   "outputs": [],
   "source": []
  },
  {
   "cell_type": "code",
   "execution_count": null,
   "metadata": {},
   "outputs": [],
   "source": [
    "A = list(data.keys())\n",
    "A.remove('2018')\n",
    "         \n",
    "for a in A:\n",
    "    file_df1 = 'df1_' + a + '.csv'\n",
    "    file_df2 = 'df2_' + a + '.csv'\n",
    "    df = results_2(pd.read_csv(file_df1))\n",
    "    df.to_csv(file_df2, index=False)\n",
    "    data[a]['df2'] = file_df2"
   ]
  },
  {
   "cell_type": "code",
   "execution_count": null,
   "metadata": {},
   "outputs": [],
   "source": [
    "# this function calculates G value \n",
    "def calc_g(gdf):    # gdf is int >= 0\n",
    "    if not gdf:  return 1.00\n",
    "    if gdf == 1: return 1.00\n",
    "    if gdf == 2: return  1.50 \n",
    "    else:        return (11 + gdf) / 8  \n",
    "\n",
    "# calculates p(win) based upon the differnce in ratings \n",
    "def win_exp(dfr):                            # dfr is home rating - away rating \n",
    "    return 1 / ((10) ** (-dfr / 400) + 1)   # actually home win prob.  away is (1.00 - win_exp(dfr))\n",
    "\n",
    "# the results df with all countries rating at \"begin\" date\n",
    "def start_results(date,dict):\n",
    "    A = []\n",
    "    for key, val in dict.items():\n",
    "        S = pd.Series([date, key, int(val)])\n",
    "        A.append(S)\n",
    "    df = pd.DataFrame(A)\n",
    "    df.columns = ['date', 'country', 'rating']\n",
    "    return df\n",
    "\n",
    "#creates ratings dict to begin an analysis for initial time period\n",
    "def teams_rate_begin(df):\n",
    "    all = set(df.home.unique()) | set(df.away.unique())\n",
    "    rtgs = {}\n",
    "    for team in all:\n",
    "        rtgs[team] = 1500   \n",
    "    return rtgs\n",
    "\n",
    "def teams_rate_next(df, dict):\n",
    "    all_team = set(df.home.unique()) | set(df.away.unique())\n",
    "    add_team = all_team - set(dict.keys())\n",
    "    for team in add_team:\n",
    "        rtgs[team] = 1500   \n",
    "    return rtgs"
   ]
  },
  {
   "cell_type": "code",
   "execution_count": null,
   "metadata": {},
   "outputs": [],
   "source": [
    "rtgs = teams_rate_begin(df)\n",
    "results = \n",
    "win_probs = []"
   ]
  },
  {
   "cell_type": "code",
   "execution_count": null,
   "metadata": {},
   "outputs": [],
   "source": [
    "A = ['1970']\n",
    "\n",
    "B = [ 'wc70', '1974', 'wc74', '1978', 'wc78', '1982', 'wc82', '1986', 'wc86', '1990',\n",
    "      'wc90', '1994', 'wc94', '1998', 'wc98', '2002', 'wc02', '2006',  'wc06', '2010'\n",
    "    ]\n",
    "\n",
    "C =  ['wc10', '2014', 'wc14', '2018', 'wc18']\n"
   ]
  },
  {
   "cell_type": "code",
   "execution_count": null,
   "metadata": {},
   "outputs": [],
   "source": [
    "def result_3(df):\n",
    "\n",
    "    for (i, S) in df.iterrows():\n",
    "\n",
    "        date = S[0]                                         #date\n",
    "        home, away = S[1], S[2]                             # strings\n",
    "        nuetral, draw, win = S[3], S[5], S[6]               # bools\n",
    "        gdf, k =  S[4], S[7]                                # ints \n",
    "        result = S[8]                                       # float\n",
    "\n",
    "        home_rtg, away_rtg = rtgs[home], rtgs[away]\n",
    "\n",
    "        if not nuetral:   dfr = home_rtg + 100 - away_rtg                    # not nuetral? ==> home rating + 100                                    \n",
    "        else:    dfr = home_rtg - away_rtg   \n",
    "\n",
    "        expect = win_exp(dfr)\n",
    "        adjust = int(np.round(calc_g(gdf) * k * (result - expect), decimals=0))  \n",
    "        home_rtg += adjust\n",
    "        away_rtg -= adjust\n",
    "\n",
    "        if not draw:\n",
    "            if win: win_probs.append(1 - expect)                            # appends list with winning team's P(expect)\n",
    "            else:   win_probs.append(- expect)\n",
    "\n",
    "        results = results.append(pd.DataFrame(pd.Series({'date':date, 'country':home, 'rating':home_rtg})).T) \n",
    "        results = results.append(pd.DataFrame(pd.Series({'date':date, 'country':away, 'rating':away_rtg})).T) \n",
    "\n",
    "\n",
    "    rtgs[home] = home_rtg; rtgs[away] = away_rtg \n",
    "\n",
    "    results.index = range(len(results))"
   ]
  },
  {
   "cell_type": "code",
   "execution_count": null,
   "metadata": {},
   "outputs": [],
   "source": [
    "def result_3_initial(df, dict):\n",
    "    rtgs = teams_rate_begin(df)\n",
    "    results = start_results(pd.Timestamp(dict['bgn']), rtgs)\n",
    "    def result_3(df, dict)\n",
    "    \n",
    "    \n",
    "    return dict\n",
    "    \n",
    "    \n",
    "    \n",
    "    \n",
    "    \n",
    "    "
   ]
  }
 ],
 "metadata": {
  "kernelspec": {
   "display_name": "Python 3",
   "language": "python",
   "name": "python3"
  },
  "language_info": {
   "codemirror_mode": {
    "name": "ipython",
    "version": 3
   },
   "file_extension": ".py",
   "mimetype": "text/x-python",
   "name": "python",
   "nbconvert_exporter": "python",
   "pygments_lexer": "ipython3",
   "version": "3.7.0"
  }
 },
 "nbformat": 4,
 "nbformat_minor": 2
}
