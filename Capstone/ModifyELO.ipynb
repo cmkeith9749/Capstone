{
 "cells": [
  {
   "cell_type": "markdown",
   "metadata": {},
   "source": [
    "## Introduction <a name=\"introduction\"></a>\n",
    "\n",
    "Association football\n",
    "\n",
    "Competions between national teams culminate in the quadrenail Worldcup.  FIFA rankings are used to seed teams in the tournament.  Because of the low scoring nature of football, there \n",
    "\n",
    "\n"
   ]
  },
  {
   "cell_type": "markdown",
   "metadata": {},
   "source": [
    "1. [Introduction](#introduction)\n",
    "2. [Data](#Data)\n",
    "    1. [DataFrame from File](#Datasub1)\n",
    "    2. [Prepare DataFrame for Analysis](#Datasub2)\n",
    "3. [Ranking Systems](#Rank)\n",
    "    1. [ELO](#RankSub1)\n",
    "    2. [Fifa ELO System](#RankSub2)\n",
    "    3. [Regress to Mean after WorldCup ](#RankSub3)\n",
    "    4. [Modify G Coefficient](#RankSub4)\n",
    "    "
   ]
  },
  {
   "cell_type": "markdown",
   "metadata": {},
   "source": [
    "## Data <a name=\"Data\"></a>\n",
    "The data comes from the Kaggle  as a csv file. More info about data\n",
    "\n"
   ]
  },
  {
   "cell_type": "markdown",
   "metadata": {},
   "source": [
    "## DataFrame from File <a name=\"Datasub1\"></a>\n",
    "With no parsing except for defining the date column as a date object, this is what I get. For my analysis I am not going to work with the entire data set.  Here I can reduce the data set by setting a start and end date."
   ]
  },
  {
   "cell_type": "markdown",
   "metadata": {},
   "source": [
    "\n"
   ]
  },
  {
   "cell_type": "code",
   "execution_count": null,
   "metadata": {},
   "outputs": [],
   "source": []
  },
  {
   "cell_type": "code",
   "execution_count": null,
   "metadata": {},
   "outputs": [],
   "source": [
    "def conv_tournament(S):\n",
    "    L = set(S.unique())\n",
    "    A = {'FIFA World Cup'}\n",
    "    B = {'AFC Asian Cup', 'African Cup of Nations', 'Copa América', 'Gold Cup', 'Nations Cup',\n",
    "         'Copa América', 'UEFA Euro'}\n",
    "    C = {'FIFA World Cup qualification', 'AFC Asian Cup qualification', 'African Cup of Nations qualification',\n",
    "        'Copa América qualification', 'Gold Cup qualification', 'CONCACAF Championship', 'UEFA Euro qualification'}\n",
    "    E = {'Friendly'}\n",
    "    D = L - A - B - C - E\n",
    "    return  {60:A, 50:B, 40:C, 30:D, 20:E}"
   ]
  },
  {
   "cell_type": "code",
   "execution_count": null,
   "metadata": {},
   "outputs": [],
   "source": [
    "def set_k(S, dict):\n",
    "    A = []\n",
    "    for s in S:\n",
    "        for key, val in dict.items():\n",
    "            if s in val:\n",
    "                A.append(key)\n",
    "    return A"
   ]
  },
  {
   "cell_type": "code",
   "execution_count": 63,
   "metadata": {},
   "outputs": [],
   "source": [
    "def result(gdf):\n",
    "    if not gdf:         return 0.50\n",
    "    if gdf == abs(gdf): return 1.00\n",
    "    else:               return 0.00"
   ]
  },
  {
   "cell_type": "code",
   "execution_count": null,
   "metadata": {},
   "outputs": [],
   "source": [
    "def conv_tournament(S):\n",
    "    L = set(S.unique())\n",
    "    A = {'FIFA World Cup'}\n",
    "    B = {'AFC Asian Cup', 'African Cup of Nations', 'Copa América', 'Gold Cup', 'Nations Cup',\n",
    "         'Copa América', 'UEFA Euro'}\n",
    "    C = {'FIFA World Cup qualification', 'AFC Asian Cup qualification', 'African Cup of Nations qualification',\n",
    "        'Copa América qualification', 'Gold Cup qualification', 'CONCACAF Championship', 'UEFA Euro qualification'}\n",
    "    E = {'Friendly'}\n",
    "    D = L - A - B - C - E\n",
    "    return  {60:A, 50:B, 40:C, 30:D, 20:E}\n",
    "\n",
    "def set_k(S, dict):\n",
    "    A = []\n",
    "    for s in S:\n",
    "        for key, val in dict.items():\n",
    "            if s in val:\n",
    "                A.append(key)\n",
    "    return A\n",
    "def result(gdf):\n",
    "    if not gdf:         return 0.50\n",
    "    if gdf == abs(gdf): return 1.00\n",
    "    else:               return 0.00"
   ]
  },
  {
   "cell_type": "code",
   "execution_count": 1,
   "metadata": {},
   "outputs": [],
   "source": [
    "# this function prepares intial data frame \n",
    "def results_2(df):   \n",
    "    df.columns = ['date', 'home', 'away', 'home_score', 'away_score', 'tournament', 'city', 'country', 'neutral']  \n",
    "    df['gdf']      = np.subtract(df.home_score, df.away_score)\n",
    "    df['draw']     = np.where(df['gdf'] == 0, True, False)\n",
    "    df['win']      = np.where(df.gdf > 0, True, False)\n",
    "    df['k']        = set_k(df.tournament, conv_tournament(df.tournament)) \n",
    "    df['result']   = df.gdf.apply(lambda x : result(x))  \n",
    "    df['gdf']      = df.gdf.abs()\n",
    "    df = df.drop(['home_score', 'away_score', 'city', 'country', 'tournament'], axis=1)    \n",
    "    return df"
   ]
  },
  {
   "cell_type": "code",
   "execution_count": null,
   "metadata": {},
   "outputs": [],
   "source": [
    "df = results_2(df)\n",
    "df.head(9)"
   ]
  },
  {
   "cell_type": "code",
   "execution_count": null,
   "metadata": {},
   "outputs": [],
   "source": [
    "This last round of processing creates three objects:\n",
    "1. dictionary with all countries ratings at end of time period\n",
    "2. results DataFrame to graph rating over time\n",
    "3. list of probabilities (win_expect) for winning team for analysis and figures."
   ]
  },
  {
   "cell_type": "markdown",
   "metadata": {},
   "source": [
    "## Ranking Systems <a name=\"Rank\"></a>\n",
    "\n",
    "\n",
    "ovarall discussiom"
   ]
  },
  {
   "cell_type": "markdown",
   "metadata": {},
   "source": [
    "## ELO Rating System <a name=\"RankSub1\"></a>\n",
    "\n",
    "The World Football Elo Ratings are based on the Elo rating system, developed by Dr. Arpad Elo. This system is used by FIDE, the international chess federation, to rate chess players.\n",
    "\n",
    "Eloratings.net applies the Elo rating system to international football, by adding a weighting for the kind of match, an adjustment for the home team advantage, and an adjustment for goal difference in the match result.\n",
    "\n",
    "The ratings take into account all international \"A\" matches for which results could be found. International football data is primarily obtained from rsssf.com, theroonba.com, and soccer-db.info.\n",
    "\n",
    "Ratings tend to converge on a team's true strength relative to its competitors after about 30 matches. Ratings for teams with fewer than 30 matches should be considered provisional.\n",
    "\n",
    "The ratings are based on the following formulas:\n",
    "**Rn = Ro + K × G x (W - We)**\n",
    "\n",
    "Rn is the new rating, Ro is the old (pre-match) rating.\n",
    "\n",
    "**K** is the weight constant for the tournament played:\n",
    "```\n",
    "60 for World Cup finals;\n",
    "50 for continental championship finals and major intercontinental tournaments;\n",
    "40 for World Cup and continental qualifiers and major tournaments;\n",
    "30 for all other tournaments;\n",
    "20 for friendly matches.\n",
    "```\n",
    "**G** is a constant based on the goal differential (gdf).\n",
    "\n",
    "```\n",
    "+1                 G = 1.00\n",
    "+2                 G = 1.50\n",
    "+3                 G = 1.75\n",
    "+4 or higher       G = (11 + gdf) / 8\n",
    "```\n",
    "**W** is the result of the game.\n",
    "```\n",
    "1 for a win\n",
    "0.5 for a draw\n",
    "0 for a loss\n",
    "```\n",
    "**We** is the expected result (win expectancy). The value *dfr* is the difference in ratings plus 100 points for a team playing at home.\n",
    "```\n",
    "We = 1 / (10(-dfr/400) + 1)\n",
    "```\n",
    "\n",
    "\n"
   ]
  },
  {
   "cell_type": "code",
   "execution_count": null,
   "metadata": {},
   "outputs": [],
   "source": [
    "# this function calculates G value \n",
    "def calc_g(gdf):    # gdf is int >= 0\n",
    "    if not gdf:  return 1.00\n",
    "    if gdf == 1: return 1.00\n",
    "    if gdf == 2: return  1.50 \n",
    "    else:        return (11 + gdf) / 8  \n",
    "\n",
    "\n",
    "def win_exp(dfr):\n",
    "    return 1 / ((10) ** (-dfr / 400) + 1)\n",
    "\n",
    "#creates ratings dict to begin an analysis\n",
    "def start_results(date,dict):\n",
    "    A = []\n",
    "    for key, val in dict.items():\n",
    "        S = pd.Series([date, key, int(val)])\n",
    "        A.append(S)\n",
    "    df = pd.DataFrame(A)\n",
    "    df.columns = ['date', 'country', 'rating']\n",
    "    return df\n",
    "\n",
    "def teams_rate_begin(df):\n",
    "    all = set(df.home.unique()) | set(df.away.unique())\n",
    "    rtgs = {}\n",
    "    for team in all:\n",
    "        rtgs[team] = 1500   \n",
    "    return rtgs"
   ]
  },
  {
   "cell_type": "code",
   "execution_count": null,
   "metadata": {},
   "outputs": [],
   "source": [
    "rtgs = teams_rate_begin(df)\n",
    "results = start_results(begin,rtgs)\n",
    "win_probs =[]"
   ]
  },
  {
   "cell_type": "code",
   "execution_count": null,
   "metadata": {},
   "outputs": [],
   "source": [
    "for (i, S) in df.iterrows():\n",
    "   \n",
    "    date = S[0]                                         #date\n",
    "    home, away = S[1], S[2]                             # strings\n",
    "    nuetral, draw, win = S[3], S[5], S[6]               # bools\n",
    "    gdf, k =  S[4], S[7]                                # ints \n",
    "    result = S[8]                                       # float\n",
    "    \n",
    "    home_rtg, away_rtg = rtgs[home], rtgs[away]\n",
    "    \n",
    "    if not nuetral:   dfr = home_rtg + 100 - away_rtg                    # not nuetral? ==> home rating + 100                                    \n",
    "    else:    dfr = home_rtg - away_rtg   \n",
    "        \n",
    "    expect = win_exp(dfr)\n",
    "    adjust = int(np.round(calc_g(gdf) * k * (result - expect), decimals=0))  \n",
    "    home_rtg += adjust\n",
    "    away_rtg -= adjust\n",
    "    \n",
    "    if not draw:\n",
    "        if win: win_probs.append(1 - expect)                            # appends list with winning team's P(expect)\n",
    "        else:   win_probs.append(- expect)\n",
    "            \n",
    "    results = results.append(pd.DataFrame(pd.Series({'date':date, 'country':home, 'rating':home_rtg})).T) \n",
    "    results = results.append(pd.DataFrame(pd.Series({'date':date, 'country':away, 'rating':away_rtg})).T) \n",
    "    \n",
    "    \n",
    "    rtgs[home] = home_rtg; rtgs[away] = away_rtg \n",
    "    \n",
    "results.index = range(len(results))"
   ]
  },
  {
   "cell_type": "markdown",
   "metadata": {},
   "source": [
    "## Fifa ELO System <a name=\"RankSub2\"></a>\n",
    "\n",
    "After the 2018 world cup, FIFA adopted a modified version of the ELO system .... \n"
   ]
  },
  {
   "cell_type": "markdown",
   "metadata": {},
   "source": [
    "## Regress to Mean after WorldCup   <a name=\"RankSub3\"></a>\n",
    "\n",
    "One complaint"
   ]
  },
  {
   "cell_type": "code",
   "execution_count": null,
   "metadata": {},
   "outputs": [],
   "source": [
    "def fifa_conv_tournament(S):\n",
    "    L = set(S.unique())\n",
    "    A = {'FIFA World Cup'}\n",
    "    B = {'AFC Asian Cup', 'African Cup of Nations', 'Copa América', 'Gold Cup', 'Nations Cup',\n",
    "         'Copa América', 'UEFA Euro'}\n",
    "    C = {'FIFA World Cup qualification', 'AFC Asian Cup qualification', 'African Cup of Nations qualification',\n",
    "        'Copa América qualification', 'Gold Cup qualification', 'CONCACAF Championship', 'UEFA Euro qualification'}\n",
    "    E = {'Friendly'}\n",
    "    D = L - A - B - C - E\n",
    "    return  {60:A, 50:B, 40:C, 30:D, 20:E}"
   ]
  },
  {
   "cell_type": "code",
   "execution_count": null,
   "metadata": {},
   "outputs": [],
   "source": [
    "def fifa_win_exp(dfr):\n",
    "    return 1 / ((10) ** (-dfr / 400) + 1)"
   ]
  },
  {
   "cell_type": "code",
   "execution_count": null,
   "metadata": {},
   "outputs": [],
   "source": [
    "def Regress_mean(dict):\n",
    "    \n",
    "    for key, val in dict.items():\n",
    "        dict[key] = dict[key] + (1500 - dict[key]) // 2\n",
    "\n",
    "    return dict\n",
    "\n",
    "    "
   ]
  },
  {
   "cell_type": "code",
   "execution_count": null,
   "metadata": {},
   "outputs": [],
   "source": [
    "\n",
    "test = Regress_mean(rtgs)\n"
   ]
  },
  {
   "cell_type": "markdown",
   "metadata": {},
   "source": [
    "## Modify G Coefficient <a name=\"RankSub4\"></a>\n",
    "\n",
    "My belief is that teams should not ....."
   ]
  },
  {
   "cell_type": "code",
   "execution_count": null,
   "metadata": {},
   "outputs": [],
   "source": [
    "# this function calculates G value \n",
    "def calc_g(gdf):    # gdf is int >= 0\n",
    "    if gdf == 1: return 1.00\n",
    "    else:        return 2.00 "
   ]
  },
  {
   "cell_type": "code",
   "execution_count": null,
   "metadata": {},
   "outputs": [],
   "source": []
  }
 ],
 "metadata": {
  "kernelspec": {
   "display_name": "Python 3",
   "language": "python",
   "name": "python3"
  },
  "language_info": {
   "codemirror_mode": {
    "name": "ipython",
    "version": 3
   },
   "file_extension": ".py",
   "mimetype": "text/x-python",
   "name": "python",
   "nbconvert_exporter": "python",
   "pygments_lexer": "ipython3",
   "version": "3.7.0"
  }
 },
 "nbformat": 4,
 "nbformat_minor": 2
}
