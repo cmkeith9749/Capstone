{
 "cells": [
  {
   "cell_type": "markdown",
   "metadata": {},
   "source": [
    "## Test Section to be deleted in final notebook"
   ]
  },
  {
   "cell_type": "code",
   "execution_count": null,
   "metadata": {},
   "outputs": [],
   "source": [
    "import numpy as np\n",
    "import pandas as pd"
   ]
  },
  {
   "cell_type": "code",
   "execution_count": null,
   "metadata": {},
   "outputs": [],
   "source": [
    "def test_dataframe():\n",
    "    s1 = pd.Series(['2000-03-01',    'Zambia',    'Lesotho',    False,    2,  False,      True,  20])\n",
    "    s2 = pd.Series(['2000-03-04',  'Honduras',  'Nicaragua',    False,    3,  False,      True,  40])\n",
    "    s3 = pd.Series(['2000-03-12',    'Zambia',    'Malawi',    False,    0,  True,      False,  20])\n",
    "    s4 = pd.Series(['2000-03-13',    'Zambia',    'Malawi',    False,    1,  False,      False,  20])\n",
    "    s5 = pd.Series(['2018-07-07',  'Russia',  'Croatia',    False,    0,   True,     False,  60])\n",
    "    s6 = pd.Series(['2018-07-10',  'France',  'Belgium',     True,    1,  False,      True,  60])\n",
    "    test = pd.concat([s1, s2, s3, s4], axis=1, sort=False).T \n",
    "    test.columns = ['date',    'home',     'away',  'neutral',  'gdf',   'draw', 'home_win',   'k']\n",
    "    return(test)"
   ]
  },
  {
   "cell_type": "code",
   "execution_count": 60,
   "metadata": {},
   "outputs": [],
   "source": [
    "def test_rtgs():\n",
    "    return {'Zambia':1553, 'Lesotho':1113,'Honduras':1674, 'Nicaragua':932, 'Malawi':1236 }"
   ]
  },
  {
   "cell_type": "code",
   "execution_count": null,
   "metadata": {},
   "outputs": [],
   "source": [
    "## End of Test Section"
   ]
  },
  {
   "cell_type": "markdown",
   "metadata": {},
   "source": [
    "## This is the introduction <a name=\"introduction\"></a>\n",
    "Some introduction text, formatted in heading 2 style"
   ]
  },
  {
   "cell_type": "markdown",
   "metadata": {},
   "source": [
    "1. [Introduction](#introduction)\n",
    "2. [Data](#Data)\n",
    "    1. [DataFrame from File](#Datasub1)\n",
    "    2. [Prepare DataFrame for Analysis](#Datasub2)\n",
    "3. [Ranking Systems](#Rank)\n",
    "    1. [ELO](#RankSub1)\n",
    "    2. [Fifa ELO System](#RankSub2)\n",
    "    3. [Regress to Mean after WorldCup ](#RankSub3)\n",
    "    4. [Modify G Coefficient](#RankSub4)\n",
    "    "
   ]
  },
  {
   "cell_type": "markdown",
   "metadata": {},
   "source": [
    "## Data <a name=\"Data\"></a>\n",
    "The data comes from the Kaggle  as a csv file. More info about data\n",
    "\n"
   ]
  },
  {
   "cell_type": "code",
   "execution_count": 31,
   "metadata": {},
   "outputs": [],
   "source": []
  },
  {
   "cell_type": "code",
   "execution_count": 32,
   "metadata": {},
   "outputs": [],
   "source": [
    "# this function prepares intial data frame \n",
    "def results_1():   \n",
    "    return pd.read_csv(r'results.csv', parse_dates=[0])"
   ]
  },
  {
   "cell_type": "markdown",
   "metadata": {},
   "source": [
    "## DataFrame from File <a name=\"Datasub1\"></a>\n",
    "With no parsing except for defining the date column as a date object, this is what I get. For my analysis I am not going to work with the entire data set.  Here I can reduce the data set by setting a start and end date."
   ]
  },
  {
   "cell_type": "code",
   "execution_count": 53,
   "metadata": {},
   "outputs": [
    {
     "name": "stdout",
     "output_type": "stream",
     "text": [
      "            date   home_team            away_team  home_score  away_score  \\\n",
      "31794 2010-03-02  Guadeloupe  St. Kitts and Nevis           2           1   \n",
      "31795 2010-03-02     Ireland               Brazil           0           2   \n",
      "31796 2010-03-03     Albania     Northern Ireland           1           0   \n",
      "31797 2010-03-03     Algeria               Serbia           0           3   \n",
      "31798 2010-03-03      Angola               Latvia           1           1   \n",
      "\n",
      "      tournament             city     country  neutral  \n",
      "31794   Friendly  Vieux-Habitants  Guadeloupe    False  \n",
      "31795   Friendly           London     England     True  \n",
      "31796   Friendly           Tirana     Albania    False  \n",
      "31797   Friendly          Algiers     Algeria    False  \n",
      "31798   Friendly           Luanda      Angola    False  \n"
     ]
    }
   ],
   "source": [
    "df = results_1()\n",
    "start, end = pd.datetime(2000, 3, 1), pd.datetime(2010, 3, 1)\n",
    "df = df[df['date'] >= start]\n",
    "df = df[df['date'] >= end]\n",
    "print(df.head())"
   ]
  },
  {
   "cell_type": "markdown",
   "metadata": {},
   "source": [
    "## Prepare DataFrame for Analysis <a name=\"Datasub2\"></a>\n",
    "\n",
    "Next I modify the DataFrame prior to apply either rating system.  I keep the *'date'*, *'home_team'* and *'away_team'* columns.  The *'home_score'* and *'away_score'* columns are combined  (winning score - losing score) into a new column **'gdf'** (goal differential as int) and deleted. Along with the that a **'home_win'** (bool) and **'not_draw'** (bool) are added. The *'neutral'* column is cast as a bool.  The *'tournament'* column values are changed to appropriate match weighting constant and the column renamed as **'k'**.  Columns *'city'* and *'country'* are not needed.\n",
    "```\n",
    "60 for World Cup, Olympic Games (1908–1980)\n",
    "50 for Continental championship and intercontinental tournaments\n",
    "40 for World Cup and Continental qualifiers and major tournaments\n",
    "30 for All other tournaments\n",
    "20 for Friendly matchess.\n",
    "```\n"
   ]
  },
  {
   "cell_type": "code",
   "execution_count": 44,
   "metadata": {},
   "outputs": [],
   "source": [
    "def conv_tournament(S):\n",
    "    L = set(S.unique())\n",
    "    A = {'FIFA World Cup'}\n",
    "    B = {'AFC Asian Cup', 'African Cup of Nations', 'Copa América', 'Gold Cup', 'Nations Cup',\n",
    "         'Copa América', 'UEFA Euro'}\n",
    "    C = {'FIFA World Cup qualification', 'AFC Asian Cup qualification', 'African Cup of Nations qualification',\n",
    "        'Copa América qualification', 'Gold Cup qualification', 'CONCACAF Championship', 'UEFA Euro qualification'}\n",
    "    E = {'Friendly'}\n",
    "    D = L - A - B - C - E\n",
    "    return  {60:A, 50:B, 40:C, 30:D, 20:E}"
   ]
  },
  {
   "cell_type": "code",
   "execution_count": 43,
   "metadata": {},
   "outputs": [],
   "source": [
    "def set_k(S, dict):\n",
    "    A = []\n",
    "    for s in S:\n",
    "        for key, val in dict.items():\n",
    "            if s in val:\n",
    "                A.append(key)\n",
    "    return A"
   ]
  },
  {
   "cell_type": "code",
   "execution_count": 45,
   "metadata": {},
   "outputs": [],
   "source": [
    "def result(draw, win):\n",
    "    if draw:   result = 0.50\n",
    "    if win:    result = 1.00\n",
    "    else:      result = 0.00\n",
    "    \n",
    "    return result"
   ]
  },
  {
   "cell_type": "code",
   "execution_count": 46,
   "metadata": {},
   "outputs": [],
   "source": [
    "# this function prepares intial data frame \n",
    "def results_2(df):   \n",
    "    df.columns = ['date', 'home', 'away', 'home_score', 'away_score', 'tournament', 'city', 'country', 'neutral']\n",
    "    \n",
    "    df['gdf']      = np.subtract(df.home_score, df.away_score)\n",
    "    df['draw']     =  np.repeat(True,len(df))\n",
    "    df['draw']     = df.draw.where(df.gdf == 0, other=False)\n",
    "    df['win']      = np.repeat(True,len(df))\n",
    "    df['win']      = df.win.where(df.gdf > 0, other=False)\n",
    "    df['gdf']      = df.gdf.abs()\n",
    "    df['result']   = df.apply(lambda x : result(x['draw'], x['win']), axis=1)\n",
    "    df['k']        = set_k(df.tournament, conv_tournament(df.tournament)) \n",
    "    df['home_rtg'] = np.repeat(0, len(df))\n",
    "    df['away_rtg'] = np.repeat(0, len(df))\n",
    "    \n",
    "    df = df.drop(['home_score', 'away_score', 'city', 'country', 'tournament'], axis=1) \n",
    "    df.index = range(len(df))\n",
    "    \n",
    "    \n",
    "    return df"
   ]
  },
  {
   "cell_type": "code",
   "execution_count": 55,
   "metadata": {},
   "outputs": [
    {
     "name": "stdout",
     "output_type": "stream",
     "text": [
      "        date        home                 away  neutral  gdf   draw    win  \\\n",
      "0 2010-03-02  Guadeloupe  St. Kitts and Nevis    False    1  False   True   \n",
      "1 2010-03-02     Ireland               Brazil     True    2  False  False   \n",
      "\n",
      "   result   k  home_rtg  away_rtg  \n",
      "0     1.0  20         0         0  \n",
      "1     0.0  20         0         0  \n"
     ]
    }
   ],
   "source": [
    "df = results_2(df)\n",
    "print(df.head(2))"
   ]
  },
  {
   "cell_type": "markdown",
   "metadata": {},
   "source": [
    "## Ranking Systems <a name=\"Rank\"></a>\n",
    "\n",
    "\n",
    "ovarall discussiom"
   ]
  },
  {
   "cell_type": "markdown",
   "metadata": {},
   "source": [
    "## ELO Rating System <a name=\"RankSub1\"></a>\n",
    "\n",
    "The World Football Elo Ratings are based on the Elo rating system, developed by Dr. Arpad Elo. This system is used by FIDE, the international chess federation, to rate chess players.\n",
    "\n",
    "Eloratings.net applies the Elo rating system to international football, by adding a weighting for the kind of match, an adjustment for the home team advantage, and an adjustment for goal difference in the match result.\n",
    "\n",
    "The ratings take into account all international \"A\" matches for which results could be found. International football data is primarily obtained from rsssf.com, theroonba.com, and soccer-db.info.\n",
    "\n",
    "Ratings tend to converge on a team's true strength relative to its competitors after about 30 matches. Ratings for teams with fewer than 30 matches should be considered provisional.\n",
    "\n",
    "The ratings are based on the following formulas:\n",
    "**Rn = Ro + K × G x (W - We)**\n",
    "\n",
    "Rn is the new rating, Ro is the old (pre-match) rating.\n",
    "\n",
    "**K** is the weight constant for the tournament played:\n",
    "```\n",
    "60 for World Cup finals;\n",
    "50 for continental championship finals and major intercontinental tournaments;\n",
    "40 for World Cup and continental qualifiers and major tournaments;\n",
    "30 for all other tournaments;\n",
    "20 for friendly matches.\n",
    "```\n",
    "**G** is a constant based on the goal differential (gdf).\n",
    "\n",
    "```\n",
    "+1                 G = 1.00\n",
    "+2                 G = 1.50\n",
    "+3                 G = 1.75\n",
    "+4 or higher       G = (11 + gdf) / 8\n",
    "```\n",
    "**W** is the result of the game.\n",
    "```\n",
    "1 for a win\n",
    "0.5 for a draw\n",
    "0 for a loss\n",
    "```\n",
    "**We** is the expected result (win expectancy). The value *dfr* is the difference in ratings plus 100 points for a team playing at home.\n",
    "```\n",
    "We = 1 / (10(-dfr/400) + 1)\n",
    "```\n",
    "\n",
    "\n"
   ]
  },
  {
   "cell_type": "code",
   "execution_count": 1,
   "metadata": {},
   "outputs": [],
   "source": [
    "import numpy as np\n",
    "import pandas as pd"
   ]
  },
  {
   "cell_type": "code",
   "execution_count": 2,
   "metadata": {},
   "outputs": [],
   "source": [
    "# this function calculates G value \n",
    "def calc_g(gdf):    # gdf is int >= 0\n",
    "    if not gdf:  return 1.00\n",
    "    if gdf == 1: return 1.00\n",
    "    if gdf == 2: return  1.50 \n",
    "    else:        return (11 + gdf) / 8  "
   ]
  },
  {
   "cell_type": "code",
   "execution_count": 3,
   "metadata": {},
   "outputs": [],
   "source": [
    "def win_exp(dfr):\n",
    "    return 1 / ((10) ** (-dfr / 400) + 1)"
   ]
  },
  {
   "cell_type": "code",
   "execution_count": 10,
   "metadata": {},
   "outputs": [],
   "source": [
    "#creates ratings dict to begin an analysis\n",
    "def start_results(date,dict):\n",
    "    A = []\n",
    "    for key, val in dict.items():\n",
    "        S = pd.Series([date, key, val])\n",
    "        A.append(S)\n",
    "    df = pd.DataFrame(A)\n",
    "    df.columns = ['date', 'country', 'rating']\n",
    "    return df"
   ]
  },
  {
   "cell_type": "code",
   "execution_count": 4,
   "metadata": {},
   "outputs": [],
   "source": []
  },
  {
   "cell_type": "code",
   "execution_count": 27,
   "metadata": {},
   "outputs": [],
   "source": [
    "df = test_dataframe()\n",
    "rtgs = test_rtgs()\n",
    "start = pd.datetime(2000, 3, 1)\n",
    "results = start_results(start,rtgs)"
   ]
  },
  {
   "cell_type": "code",
   "execution_count": 28,
   "metadata": {},
   "outputs": [],
   "source": [
    "win_probs =[]\n",
    "\n",
    "for (row, S) in df.iterrows():\n",
    "   \n",
    "    date = S[0]                                         #date\n",
    "    home, away = S[1], S[2]                             # strings\n",
    "    nuetral, draw, win, favor = S[3], S[5], S[6], True  # bools\n",
    "    gdf, k =  S[4], S[7]                                # ints \n",
    "    result = 0.0                                        # float\n",
    "    \n",
    "    \n",
    "    home_rtg, away_rtg = rtgs[home], rtgs[away]\n",
    "    \n",
    "    if not nuetral:   dfr = home_rtg + 100 - away_rtg                    # not nuetral? ==> home rating + 100                                    \n",
    "    else:    dfr = home_rtg - away_rtg\n",
    "    if dfr < 0: favor = False\n",
    "    \n",
    "    if win: result = 1.0\n",
    "    if draw: result = .50   \n",
    "        \n",
    "    expect = win_exp(dfr)\n",
    "    adjust = np.round(calc_g(gdf) * k * (result - expect), decimals=0)  \n",
    "   \n",
    "    \n",
    "    #if win or draw and not favor:                     # if home team wins or draws when not favored, rating increases\n",
    "    home_rtg += adjust\n",
    "    away_rtg -= adjust\n",
    "    #else:\n",
    "        #home_rtg -= adjust\n",
    "        #away_rtg += adjust \n",
    "        \n",
    "    if not draw:\n",
    "        if win: win_probs.append(expect)                            # appends list with winning team's P(expect)\n",
    "        else:   win_probs.append(1.0 - expect)\n",
    "    results = results.append(pd.DataFrame(pd.Series({'date':date, 'country':home, 'rating':home_rtg})).T) \n",
    "    results = results.append(pd.DataFrame(pd.Series({'date':date, 'country':away, 'rating':away_rtg})).T) \n",
    "    \n",
    "    \n",
    "    rtgs[home] = home_rtg; rtgs[away] = away_rtg \n",
    "    \n",
    "results.index = range(len(results))"
   ]
  },
  {
   "cell_type": "code",
   "execution_count": 29,
   "metadata": {},
   "outputs": [
    {
     "data": {
      "text/html": [
       "<div>\n",
       "<style scoped>\n",
       "    .dataframe tbody tr th:only-of-type {\n",
       "        vertical-align: middle;\n",
       "    }\n",
       "\n",
       "    .dataframe tbody tr th {\n",
       "        vertical-align: top;\n",
       "    }\n",
       "\n",
       "    .dataframe thead th {\n",
       "        text-align: right;\n",
       "    }\n",
       "</style>\n",
       "<table border=\"1\" class=\"dataframe\">\n",
       "  <thead>\n",
       "    <tr style=\"text-align: right;\">\n",
       "      <th></th>\n",
       "      <th>date</th>\n",
       "      <th>country</th>\n",
       "      <th>rating</th>\n",
       "    </tr>\n",
       "  </thead>\n",
       "  <tbody>\n",
       "    <tr>\n",
       "      <th>0</th>\n",
       "      <td>2000-03-01 00:00:00</td>\n",
       "      <td>Zambia</td>\n",
       "      <td>1553</td>\n",
       "    </tr>\n",
       "    <tr>\n",
       "      <th>1</th>\n",
       "      <td>2000-03-01 00:00:00</td>\n",
       "      <td>Lesotho</td>\n",
       "      <td>1113</td>\n",
       "    </tr>\n",
       "    <tr>\n",
       "      <th>2</th>\n",
       "      <td>2000-03-01 00:00:00</td>\n",
       "      <td>Honduras</td>\n",
       "      <td>1674</td>\n",
       "    </tr>\n",
       "    <tr>\n",
       "      <th>3</th>\n",
       "      <td>2000-03-01 00:00:00</td>\n",
       "      <td>Nicaragua</td>\n",
       "      <td>932</td>\n",
       "    </tr>\n",
       "    <tr>\n",
       "      <th>4</th>\n",
       "      <td>2000-03-01 00:00:00</td>\n",
       "      <td>Malawi</td>\n",
       "      <td>1236</td>\n",
       "    </tr>\n",
       "    <tr>\n",
       "      <th>5</th>\n",
       "      <td>2000-03-01</td>\n",
       "      <td>Zambia</td>\n",
       "      <td>1554</td>\n",
       "    </tr>\n",
       "    <tr>\n",
       "      <th>6</th>\n",
       "      <td>2000-03-01</td>\n",
       "      <td>Lesotho</td>\n",
       "      <td>1112</td>\n",
       "    </tr>\n",
       "    <tr>\n",
       "      <th>7</th>\n",
       "      <td>2000-03-04</td>\n",
       "      <td>Honduras</td>\n",
       "      <td>1675</td>\n",
       "    </tr>\n",
       "    <tr>\n",
       "      <th>8</th>\n",
       "      <td>2000-03-04</td>\n",
       "      <td>Nicaragua</td>\n",
       "      <td>931</td>\n",
       "    </tr>\n",
       "  </tbody>\n",
       "</table>\n",
       "</div>"
      ],
      "text/plain": [
       "                  date    country rating\n",
       "0  2000-03-01 00:00:00     Zambia   1553\n",
       "1  2000-03-01 00:00:00    Lesotho   1113\n",
       "2  2000-03-01 00:00:00   Honduras   1674\n",
       "3  2000-03-01 00:00:00  Nicaragua    932\n",
       "4  2000-03-01 00:00:00     Malawi   1236\n",
       "5           2000-03-01     Zambia   1554\n",
       "6           2000-03-01    Lesotho   1112\n",
       "7           2000-03-04   Honduras   1675\n",
       "8           2000-03-04  Nicaragua    931"
      ]
     },
     "execution_count": 29,
     "metadata": {},
     "output_type": "execute_result"
    }
   ],
   "source": [
    "results.index = range(len(results))\n",
    "results.head(9)"
   ]
  },
  {
   "cell_type": "code",
   "execution_count": 15,
   "metadata": {},
   "outputs": [
    {
     "data": {
      "text/plain": [
       "{'Zambia': 1528.0,\n",
       " 'Lesotho': 1112.0,\n",
       " 'Honduras': 1675.0,\n",
       " 'Nicaragua': 931.0,\n",
       " 'Malawi': 1262.0}"
      ]
     },
     "execution_count": 15,
     "metadata": {},
     "output_type": "execute_result"
    }
   ],
   "source": [
    "rtgs"
   ]
  },
  {
   "cell_type": "code",
   "execution_count": 16,
   "metadata": {},
   "outputs": [
    {
     "data": {
      "text/plain": [
       "[0.957241588853464, 0.9922088227539905, 0.08996208018848373]"
      ]
     },
     "execution_count": 16,
     "metadata": {},
     "output_type": "execute_result"
    }
   ],
   "source": [
    "win_probs"
   ]
  },
  {
   "cell_type": "markdown",
   "metadata": {},
   "source": [
    "## Fifa ELO System <a name=\"RankSub2\"></a>\n",
    "\n",
    "After the 2018 world cup, FIFA adopted a modified version of the ELO system .... \n"
   ]
  },
  {
   "cell_type": "code",
   "execution_count": null,
   "metadata": {},
   "outputs": [],
   "source": [
    "def fifa_conv_tournament(S):\n",
    "    L = set(S.unique())\n",
    "    A = {'FIFA World Cup'}\n",
    "    B = {'AFC Asian Cup', 'African Cup of Nations', 'Copa América', 'Gold Cup', 'Nations Cup',\n",
    "         'Copa América', 'UEFA Euro'}\n",
    "    C = {'FIFA World Cup qualification', 'AFC Asian Cup qualification', 'African Cup of Nations qualification',\n",
    "        'Copa América qualification', 'Gold Cup qualification', 'CONCACAF Championship', 'UEFA Euro qualification'}\n",
    "    E = {'Friendly'}\n",
    "    D = L - A - B - C - E\n",
    "    return  {60:A, 50:B, 40:C, 30:D, 20:E}"
   ]
  },
  {
   "cell_type": "code",
   "execution_count": null,
   "metadata": {},
   "outputs": [],
   "source": [
    "def fifa_win_exp(dfr):\n",
    "    return 1 / ((10) ** (-dfr / 400) + 1)"
   ]
  },
  {
   "cell_type": "markdown",
   "metadata": {},
   "source": [
    "## Regress to Mean after WorldCup   <a name=\"RankSub3\"></a>\n",
    "\n",
    "One complaint"
   ]
  },
  {
   "cell_type": "code",
   "execution_count": 69,
   "metadata": {},
   "outputs": [],
   "source": [
    "def Regress_mean(dict):\n",
    "    for key, val in dict.items():\n",
    "        dict[key] = dict[key] + (1500 - dict[key]) // 2\n",
    "\n",
    "    return dict\n",
    "\n",
    "    "
   ]
  },
  {
   "cell_type": "code",
   "execution_count": 70,
   "metadata": {},
   "outputs": [
    {
     "data": {
      "text/plain": [
       "{'Zambia': 1526,\n",
       " 'Lesotho': 1306,\n",
       " 'Honduras': 1587,\n",
       " 'Nicaragua': 1216,\n",
       " 'Malawi': 1368}"
      ]
     },
     "execution_count": 70,
     "metadata": {},
     "output_type": "execute_result"
    }
   ],
   "source": [
    "test = Regress_mean(test_rtgs())\n",
    "test"
   ]
  },
  {
   "cell_type": "markdown",
   "metadata": {},
   "source": [
    "## Modify G Coefficient <a name=\"RankSub4\"></a>\n",
    "\n",
    "My belief is that teams should not ....."
   ]
  },
  {
   "cell_type": "code",
   "execution_count": null,
   "metadata": {},
   "outputs": [],
   "source": [
    "# this function calculates G value \n",
    "def calc_g(gdf):    # gdf is int >= 0\n",
    "    if not gdf:  return 1.00\n",
    "    if gdf == 1: return 1.00\n",
    "    if gdf == 2: return  1.50 \n",
    "    else:        return (11 + gdf) / 8  "
   ]
  }
 ],
 "metadata": {
  "kernelspec": {
   "display_name": "Python 3",
   "language": "python",
   "name": "python3"
  },
  "language_info": {
   "codemirror_mode": {
    "name": "ipython",
    "version": 3
   },
   "file_extension": ".py",
   "mimetype": "text/x-python",
   "name": "python",
   "nbconvert_exporter": "python",
   "pygments_lexer": "ipython3",
   "version": "3.7.0"
  }
 },
 "nbformat": 4,
 "nbformat_minor": 2
}
